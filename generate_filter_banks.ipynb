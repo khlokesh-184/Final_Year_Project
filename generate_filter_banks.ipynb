{
 "cells": [
  {
   "cell_type": "code",
   "execution_count": 1,
   "metadata": {},
   "outputs": [],
   "source": [
    "import glob\n",
    "import os\n",
    "import time\n",
    "import imageio\n",
    "import numpy as np\n",
    "import soundfile as sf\n",
    "\n",
    "from constants import *\n",
    "import common"
   ]
  },
  {
   "cell_type": "code",
   "execution_count": 2,
   "metadata": {},
   "outputs": [],
   "source": [
    "def generate_fb_and_mfcc(signal, sample_rate):\n",
    "\n",
    "    # Pre-Emphasis\n",
    "    pre_emphasis = 0.97\n",
    "    emphasized_signal = np.append(\n",
    "        signal[0],\n",
    "        signal[1:] - pre_emphasis * signal[:-1])\n",
    "\n",
    "    # Framing\n",
    "    frame_size = 0.025\n",
    "    frame_stride = 0.01\n",
    "\n",
    "    # Convert from seconds to samples\n",
    "    frame_length, frame_step = (\n",
    "        frame_size * sample_rate,\n",
    "        frame_stride * sample_rate)\n",
    "    signal_length = len(emphasized_signal)\n",
    "    frame_length = int(round(frame_length))\n",
    "    frame_step = int(round(frame_step))\n",
    "\n",
    "    # Make sure that we have at least 1 frame\n",
    "    num_frames = int(\n",
    "        np.ceil(float(np.abs(signal_length - frame_length)) / frame_step))\n",
    "\n",
    "    pad_signal_length = num_frames * frame_step + frame_length\n",
    "    z = np.zeros((pad_signal_length - signal_length))\n",
    "\n",
    "    # Pad Signal to make sure that all frames have equal\n",
    "    # number of samples without truncating any samples\n",
    "    # from the original signal\n",
    "    pad_signal = np.append(emphasized_signal, z)\n",
    "\n",
    "    indices = (\n",
    "        np.tile(np.arange(0, frame_length), (num_frames, 1)) +\n",
    "        np.tile(\n",
    "            np.arange(0, num_frames * frame_step, frame_step),\n",
    "            (frame_length, 1)\n",
    "        ).T\n",
    "    )\n",
    "    frames = pad_signal[indices.astype(np.int32, copy=False)]\n",
    "\n",
    "    # Window\n",
    "    frames *= np.hamming(frame_length)\n",
    "\n",
    "    # Fourier-Transform and Power Spectrum\n",
    "    NFFT = 512\n",
    "\n",
    "    # Magnitude of the FFT\n",
    "    mag_frames = np.absolute(np.fft.rfft(frames, NFFT))\n",
    "\n",
    "    # Power Spectrum\n",
    "    pow_frames = ((1.0 / NFFT) * ((mag_frames) ** 2))\n",
    "\n",
    "    # Filter Banks\n",
    "    nfilt = 40\n",
    "\n",
    "    low_freq_mel = 0\n",
    "\n",
    "    # Convert Hz to Mel\n",
    "    high_freq_mel = (2595 * np.log10(1 + (sample_rate / 2) / 700))\n",
    "\n",
    "    # Equally spaced in Mel scale\n",
    "    mel_points = np.linspace(low_freq_mel, high_freq_mel, nfilt + 2)\n",
    "\n",
    "    # Convert Mel to Hz\n",
    "    hz_points = (700 * (10**(mel_points / 2595) - 1))\n",
    "    bin = np.floor((NFFT + 1) * hz_points / sample_rate)\n",
    "\n",
    "    fbank = np.zeros((nfilt, int(np.floor(NFFT / 2 + 1))))\n",
    "    for m in range(1, nfilt + 1):\n",
    "        f_m_minus = int(bin[m - 1])   # left\n",
    "        f_m = int(bin[m])             # center\n",
    "        f_m_plus = int(bin[m + 1])    # right\n",
    "\n",
    "        for k in range(f_m_minus, f_m):\n",
    "            fbank[m - 1, k] = (k - bin[m - 1]) / (bin[m] - bin[m - 1])\n",
    "        for k in range(f_m, f_m_plus):\n",
    "            fbank[m - 1, k] = (bin[m + 1] - k) / (bin[m + 1] - bin[m])\n",
    "    filter_banks = np.dot(pow_frames, fbank.T)\n",
    "\n",
    "    # Numerical Stability\n",
    "    filter_banks = np.where(\n",
    "        filter_banks == 0,\n",
    "        np.finfo(float).eps,\n",
    "        filter_banks)\n",
    "\n",
    "    # dB\n",
    "    filter_banks = 20 * np.log10(filter_banks)\n",
    "\n",
    "    # MFCCs\n",
    "    # num_ceps = 12\n",
    "    # cep_lifter = 22\n",
    "\n",
    "    # ### Keep 2-13\n",
    "    # mfcc = dct(\n",
    "    #     filter_banks,\n",
    "    #     type=2,\n",
    "    #     axis=1,\n",
    "    #     norm='ortho'\n",
    "    # )[:, 1 : (num_ceps + 1)]\n",
    "\n",
    "    # (nframes, ncoeff) = mfcc.shape\n",
    "    # n = np.arange(ncoeff)\n",
    "    # lift = 1 + (cep_lifter / 2) * np.sin(np.pi * n / cep_lifter)\n",
    "    # mfcc *= lift\n",
    "\n",
    "    return filter_banks"
   ]
  },
  {
   "cell_type": "code",
   "execution_count": 3,
   "metadata": {},
   "outputs": [],
   "source": [
    "def process_audio(input_dir, debug=False):\n",
    "    files = []\n",
    "\n",
    "    extensions = ['*.flac']\n",
    "    for extension in extensions:\n",
    "        files.extend(glob.glob(os.path.join(input_dir, extension)))\n",
    "\n",
    "    for file in files:\n",
    "        if debug:\n",
    "            file = ('build/test/'\n",
    "                    'de_f_63f5b79c76cf5a1a4bbd1c40f54b166e.fragment1.flac')\n",
    "            start = time.time()\n",
    "\n",
    "        print(file)\n",
    "\n",
    "        signal, sample_rate = sf.read(file)\n",
    "        assert len(signal) > 0\n",
    "        assert sample_rate == 22050\n",
    "\n",
    "        fb = generate_fb_and_mfcc(signal, sample_rate)\n",
    "        fb = fb.astype(DATA_TYPE, copy=False)\n",
    "        \n",
    "        assert fb.dtype == DATA_TYPE\n",
    "        assert fb.shape == (WIDTH, FB_HEIGHT)\n",
    "\n",
    "        # .npz extension is added automatically\n",
    "        file_without_ext = os.path.splitext(file)[0]\n",
    "        \n",
    "#         info = np.finfo(fb.dtype) # Get the information of the incoming image type\n",
    "#         fbb = fb.astype(DATA_TYPE) / info.max # normalize the data to 0 - 1\n",
    "#         fbb = 255 * fbb # Now scale by 255\n",
    "#         img = fbb.astype(np.uint8)\n",
    "\n",
    "        imageio.imwrite(file_without_ext + '.png', fb)\n",
    "\n",
    "        np.savez_compressed(file_without_ext + '.fb', data=fb)\n",
    "\n",
    "        if debug:\n",
    "            end = time.time()\n",
    "            print(\"It took [s]: \", end - start)\n",
    "\n",
    "            # data is casted to uint8, i.e. (0, 255)\n",
    "            \n",
    "            imageio.imwrite('fb_image.png', fb)\n",
    "\n",
    "            exit(0)\n"
   ]
  },
  {
   "cell_type": "code",
   "execution_count": 4,
   "metadata": {},
   "outputs": [
    {
     "name": "stdout",
     "output_type": "stream",
     "text": [
      "spoken_language_dataset/build\\test\\de_f_63f5b79c76cf5a1a4bbd1c40f54b166e.fragment1.flac\n"
     ]
    },
    {
     "name": "stderr",
     "output_type": "stream",
     "text": [
      "Lossy conversion from float32 to uint8. Range [-250.1805419921875, -3.640634059906006]. Convert image to uint8 prior to saving to suppress this warning.\n",
      "Lossy conversion from float32 to uint8. Range [-254.91897583007812, -10.403340339660645]. Convert image to uint8 prior to saving to suppress this warning.\n"
     ]
    },
    {
     "name": "stdout",
     "output_type": "stream",
     "text": [
      "spoken_language_dataset/build\\test\\de_f_63f5b79c76cf5a1a4bbd1c40f54b166e.fragment2.flac\n",
      "spoken_language_dataset/build\\test\\de_f_63f5b79c76cf5a1a4bbd1c40f54b166e.fragment3.flac\n"
     ]
    },
    {
     "name": "stderr",
     "output_type": "stream",
     "text": [
      "Lossy conversion from float32 to uint8. Range [-256.8131103515625, -13.155024528503418]. Convert image to uint8 prior to saving to suppress this warning.\n",
      "Lossy conversion from float32 to uint8. Range [-263.1051940917969, -6.368508338928223]. Convert image to uint8 prior to saving to suppress this warning.\n"
     ]
    },
    {
     "name": "stdout",
     "output_type": "stream",
     "text": [
      "spoken_language_dataset/build\\test\\de_f_63f5b79c76cf5a1a4bbd1c40f54b166e.fragment4.flac\n",
      "spoken_language_dataset/build\\test\\de_f_63f5b79c76cf5a1a4bbd1c40f54b166e.fragment5.flac\n"
     ]
    },
    {
     "name": "stderr",
     "output_type": "stream",
     "text": [
      "Lossy conversion from float32 to uint8. Range [-236.7444305419922, -9.893030166625977]. Convert image to uint8 prior to saving to suppress this warning.\n",
      "Lossy conversion from float32 to uint8. Range [-250.5214080810547, -11.377982139587402]. Convert image to uint8 prior to saving to suppress this warning.\n"
     ]
    },
    {
     "name": "stdout",
     "output_type": "stream",
     "text": [
      "spoken_language_dataset/build\\test\\de_f_63f5b79c76cf5a1a4bbd1c40f54b166e.fragment6.flac\n",
      "spoken_language_dataset/build\\test\\de_m_923551d571cc437382d0294dda2dd0aa.fragment20.flac\n"
     ]
    },
    {
     "name": "stderr",
     "output_type": "stream",
     "text": [
      "Lossy conversion from float32 to uint8. Range [-200.36981201171875, 7.7447404861450195]. Convert image to uint8 prior to saving to suppress this warning.\n",
      "Lossy conversion from float32 to uint8. Range [-225.40501403808594, 2.241204023361206]. Convert image to uint8 prior to saving to suppress this warning.\n"
     ]
    },
    {
     "name": "stdout",
     "output_type": "stream",
     "text": [
      "spoken_language_dataset/build\\test\\de_m_923551d571cc437382d0294dda2dd0aa.fragment21.flac\n",
      "spoken_language_dataset/build\\test\\de_m_923551d571cc437382d0294dda2dd0aa.fragment22.flac\n"
     ]
    },
    {
     "name": "stderr",
     "output_type": "stream",
     "text": [
      "Lossy conversion from float32 to uint8. Range [-204.7385711669922, -4.007804870605469]. Convert image to uint8 prior to saving to suppress this warning.\n",
      "Lossy conversion from float32 to uint8. Range [-211.97390747070312, 6.576742649078369]. Convert image to uint8 prior to saving to suppress this warning.\n"
     ]
    },
    {
     "name": "stdout",
     "output_type": "stream",
     "text": [
      "spoken_language_dataset/build\\test\\de_m_923551d571cc437382d0294dda2dd0aa.fragment23.flac\n",
      "spoken_language_dataset/build\\test\\de_m_923551d571cc437382d0294dda2dd0aa.fragment24.flac\n"
     ]
    },
    {
     "name": "stderr",
     "output_type": "stream",
     "text": [
      "Lossy conversion from float32 to uint8. Range [-217.6396026611328, -5.748704433441162]. Convert image to uint8 prior to saving to suppress this warning.\n",
      "Lossy conversion from float32 to uint8. Range [-199.7388458251953, 0.3114297688007355]. Convert image to uint8 prior to saving to suppress this warning.\n"
     ]
    },
    {
     "name": "stdout",
     "output_type": "stream",
     "text": [
      "spoken_language_dataset/build\\test\\de_m_923551d571cc437382d0294dda2dd0aa.fragment25.flac\n",
      "spoken_language_dataset/build\\test\\en_f_67a0cba10d171b24039a79faa1d4d603.fragment36.flac\n"
     ]
    },
    {
     "name": "stderr",
     "output_type": "stream",
     "text": [
      "Lossy conversion from float32 to uint8. Range [-246.80126953125, -21.43478012084961]. Convert image to uint8 prior to saving to suppress this warning.\n",
      "Lossy conversion from float32 to uint8. Range [-248.76119995117188, -18.209875106811523]. Convert image to uint8 prior to saving to suppress this warning.\n"
     ]
    },
    {
     "name": "stdout",
     "output_type": "stream",
     "text": [
      "spoken_language_dataset/build\\test\\en_f_67a0cba10d171b24039a79faa1d4d603.fragment37.flac\n",
      "spoken_language_dataset/build\\test\\en_f_67a0cba10d171b24039a79faa1d4d603.fragment38.flac"
     ]
    },
    {
     "name": "stderr",
     "output_type": "stream",
     "text": [
      "Lossy conversion from float32 to uint8. Range [-247.186279296875, -17.084997177124023]. Convert image to uint8 prior to saving to suppress this warning.\n"
     ]
    },
    {
     "name": "stdout",
     "output_type": "stream",
     "text": [
      "\n",
      "spoken_language_dataset/build\\test\\en_f_67a0cba10d171b24039a79faa1d4d603.fragment39.flac\n"
     ]
    },
    {
     "name": "stderr",
     "output_type": "stream",
     "text": [
      "Lossy conversion from float32 to uint8. Range [-255.7912139892578, -15.293889999389648]. Convert image to uint8 prior to saving to suppress this warning.\n",
      "Lossy conversion from float32 to uint8. Range [-250.56881713867188, -23.242847442626953]. Convert image to uint8 prior to saving to suppress this warning.\n"
     ]
    },
    {
     "name": "stdout",
     "output_type": "stream",
     "text": [
      "spoken_language_dataset/build\\test\\en_f_67a0cba10d171b24039a79faa1d4d603.fragment40.flac\n",
      "spoken_language_dataset/build\\test\\en_f_67a0cba10d171b24039a79faa1d4d603.fragment41.flac\n"
     ]
    },
    {
     "name": "stderr",
     "output_type": "stream",
     "text": [
      "Lossy conversion from float32 to uint8. Range [-248.51869201660156, -17.496414184570312]. Convert image to uint8 prior to saving to suppress this warning.\n",
      "Lossy conversion from float32 to uint8. Range [-266.8572692871094, -2.894062042236328]. Convert image to uint8 prior to saving to suppress this warning.\n"
     ]
    },
    {
     "name": "stdout",
     "output_type": "stream",
     "text": [
      "spoken_language_dataset/build\\test\\en_m_b74b2bf2af570393cae91f4ed89cece7.fragment85.flac\n",
      "spoken_language_dataset/build\\test\\en_m_b74b2bf2af570393cae91f4ed89cece7.fragment86.flac\n"
     ]
    },
    {
     "name": "stderr",
     "output_type": "stream",
     "text": [
      "Lossy conversion from float32 to uint8. Range [-262.5108337402344, -14.760211944580078]. Convert image to uint8 prior to saving to suppress this warning.\n",
      "Lossy conversion from float32 to uint8. Range [-252.631591796875, -9.8075532913208]. Convert image to uint8 prior to saving to suppress this warning.\n"
     ]
    },
    {
     "name": "stdout",
     "output_type": "stream",
     "text": [
      "spoken_language_dataset/build\\test\\en_m_b74b2bf2af570393cae91f4ed89cece7.fragment87.flac\n",
      "spoken_language_dataset/build\\test\\en_m_b74b2bf2af570393cae91f4ed89cece7.fragment88.flac\n"
     ]
    },
    {
     "name": "stderr",
     "output_type": "stream",
     "text": [
      "Lossy conversion from float32 to uint8. Range [-256.3601379394531, -16.486679077148438]. Convert image to uint8 prior to saving to suppress this warning.\n",
      "Lossy conversion from float32 to uint8. Range [-220.88502502441406, -16.900455474853516]. Convert image to uint8 prior to saving to suppress this warning.\n"
     ]
    },
    {
     "name": "stdout",
     "output_type": "stream",
     "text": [
      "spoken_language_dataset/build\\test\\en_m_b74b2bf2af570393cae91f4ed89cece7.fragment89.flac\n",
      "spoken_language_dataset/build\\test\\en_m_b74b2bf2af570393cae91f4ed89cece7.fragment90.flac\n"
     ]
    },
    {
     "name": "stderr",
     "output_type": "stream",
     "text": [
      "Lossy conversion from float32 to uint8. Range [-252.3148651123047, -14.518720626831055]. Convert image to uint8 prior to saving to suppress this warning.\n",
      "Lossy conversion from float32 to uint8. Range [-187.7989044189453, -36.40265655517578]. Convert image to uint8 prior to saving to suppress this warning.\n"
     ]
    },
    {
     "name": "stdout",
     "output_type": "stream",
     "text": [
      "spoken_language_dataset/build\\test\\es_f_50298ab71aaba8508ebeef49d853df11.fragment1.flac\n",
      "spoken_language_dataset/build\\test\\es_f_50298ab71aaba8508ebeef49d853df11.fragment2.flac\n"
     ]
    },
    {
     "name": "stderr",
     "output_type": "stream",
     "text": [
      "Lossy conversion from float32 to uint8. Range [-169.07672119140625, -34.48076629638672]. Convert image to uint8 prior to saving to suppress this warning.\n",
      "Lossy conversion from float32 to uint8. Range [-167.27989196777344, -35.58538055419922]. Convert image to uint8 prior to saving to suppress this warning.\n"
     ]
    },
    {
     "name": "stdout",
     "output_type": "stream",
     "text": [
      "spoken_language_dataset/build\\test\\es_f_50298ab71aaba8508ebeef49d853df11.fragment3.flac\n",
      "spoken_language_dataset/build\\test\\es_f_50298ab71aaba8508ebeef49d853df11.fragment4.flac\n"
     ]
    },
    {
     "name": "stderr",
     "output_type": "stream",
     "text": [
      "Lossy conversion from float32 to uint8. Range [-178.26356506347656, -38.752750396728516]. Convert image to uint8 prior to saving to suppress this warning.\n",
      "Lossy conversion from float32 to uint8. Range [-189.9712677001953, -27.2050838470459]. Convert image to uint8 prior to saving to suppress this warning.\n"
     ]
    },
    {
     "name": "stdout",
     "output_type": "stream",
     "text": [
      "spoken_language_dataset/build\\test\\es_f_50298ab71aaba8508ebeef49d853df11.fragment5.flac\n",
      "spoken_language_dataset/build\\test\\es_f_50298ab71aaba8508ebeef49d853df11.fragment6.flac\n"
     ]
    },
    {
     "name": "stderr",
     "output_type": "stream",
     "text": [
      "Lossy conversion from float32 to uint8. Range [-176.5419464111328, -32.49668502807617]. Convert image to uint8 prior to saving to suppress this warning.\n",
      "Lossy conversion from float32 to uint8. Range [-249.09719848632812, -25.455888748168945]. Convert image to uint8 prior to saving to suppress this warning.\n"
     ]
    },
    {
     "name": "stdout",
     "output_type": "stream",
     "text": [
      "spoken_language_dataset/build\\test\\es_m_08111ce8d6a7ebc6cd2c27e62a3d98f0.fragment76.flac\n"
     ]
    },
    {
     "name": "stderr",
     "output_type": "stream",
     "text": [
      "Lossy conversion from float32 to uint8. Range [-316.74993896484375, -30.721860885620117]. Convert image to uint8 prior to saving to suppress this warning.\n"
     ]
    },
    {
     "name": "stdout",
     "output_type": "stream",
     "text": [
      "spoken_language_dataset/build\\test\\es_m_08111ce8d6a7ebc6cd2c27e62a3d98f0.fragment77.flac\n",
      "spoken_language_dataset/build\\test\\es_m_08111ce8d6a7ebc6cd2c27e62a3d98f0.fragment78.flac\n"
     ]
    },
    {
     "name": "stderr",
     "output_type": "stream",
     "text": [
      "Lossy conversion from float32 to uint8. Range [-251.17835998535156, -32.58938980102539]. Convert image to uint8 prior to saving to suppress this warning.\n",
      "Lossy conversion from float32 to uint8. Range [-261.4952392578125, -35.234413146972656]. Convert image to uint8 prior to saving to suppress this warning.\n"
     ]
    },
    {
     "name": "stdout",
     "output_type": "stream",
     "text": [
      "spoken_language_dataset/build\\test\\es_m_08111ce8d6a7ebc6cd2c27e62a3d98f0.fragment79.flac\n",
      "spoken_language_dataset/build\\test\\es_m_08111ce8d6a7ebc6cd2c27e62a3d98f0.fragment80.flac\n"
     ]
    },
    {
     "name": "stderr",
     "output_type": "stream",
     "text": [
      "Lossy conversion from float32 to uint8. Range [-319.1440734863281, -25.11994743347168]. Convert image to uint8 prior to saving to suppress this warning.\n",
      "Lossy conversion from float32 to uint8. Range [-280.5147399902344, -30.650798797607422]. Convert image to uint8 prior to saving to suppress this warning.\n"
     ]
    },
    {
     "name": "stdout",
     "output_type": "stream",
     "text": [
      "spoken_language_dataset/build\\test\\es_m_08111ce8d6a7ebc6cd2c27e62a3d98f0.fragment81.flac\n",
      "spoken_language_dataset/build\\train\\de_f_5d2e7f30d69f2d1d86fd05f3bbe120c2.fragment1.flac\n"
     ]
    },
    {
     "name": "stderr",
     "output_type": "stream",
     "text": [
      "Lossy conversion from float32 to uint8. Range [-257.55706787109375, -14.871723175048828]. Convert image to uint8 prior to saving to suppress this warning.\n",
      "Lossy conversion from float32 to uint8. Range [-165.34376525878906, -26.922794342041016]. Convert image to uint8 prior to saving to suppress this warning.\n"
     ]
    },
    {
     "name": "stdout",
     "output_type": "stream",
     "text": [
      "spoken_language_dataset/build\\train\\de_f_5d2e7f30d69f2d1d86fd05f3bbe120c2.fragment1.noise1.flac\n",
      "spoken_language_dataset/build\\train\\de_f_5d2e7f30d69f2d1d86fd05f3bbe120c2.fragment1.noise2.flac\n"
     ]
    },
    {
     "name": "stderr",
     "output_type": "stream",
     "text": [
      "Lossy conversion from float32 to uint8. Range [-187.2188262939453, -26.888805389404297]. Convert image to uint8 prior to saving to suppress this warning.\n",
      "Lossy conversion from float32 to uint8. Range [-178.59939575195312, -26.846885681152344]. Convert image to uint8 prior to saving to suppress this warning.\n"
     ]
    },
    {
     "name": "stdout",
     "output_type": "stream",
     "text": [
      "spoken_language_dataset/build\\train\\de_f_5d2e7f30d69f2d1d86fd05f3bbe120c2.fragment1.noise3.flac\n",
      "spoken_language_dataset/build\\train\\de_f_5d2e7f30d69f2d1d86fd05f3bbe120c2.fragment1.noise4.flac\n"
     ]
    },
    {
     "name": "stderr",
     "output_type": "stream",
     "text": [
      "Lossy conversion from float32 to uint8. Range [-158.0282745361328, -26.91289520263672]. Convert image to uint8 prior to saving to suppress this warning.\n",
      "Lossy conversion from float32 to uint8. Range [-250.29144287109375, -12.448079109191895]. Convert image to uint8 prior to saving to suppress this warning.\n"
     ]
    },
    {
     "name": "stdout",
     "output_type": "stream",
     "text": [
      "spoken_language_dataset/build\\train\\de_f_5d2e7f30d69f2d1d86fd05f3bbe120c2.fragment1.pitch1.flac\n",
      "spoken_language_dataset/build\\train\\de_f_5d2e7f30d69f2d1d86fd05f3bbe120c2.fragment1.pitch2.flac\n"
     ]
    },
    {
     "name": "stderr",
     "output_type": "stream",
     "text": [
      "Lossy conversion from float32 to uint8. Range [-240.88121032714844, -17.06942367553711]. Convert image to uint8 prior to saving to suppress this warning.\n",
      "Lossy conversion from float32 to uint8. Range [-256.65509033203125, -13.549722671508789]. Convert image to uint8 prior to saving to suppress this warning.\n"
     ]
    },
    {
     "name": "stdout",
     "output_type": "stream",
     "text": [
      "spoken_language_dataset/build\\train\\de_f_5d2e7f30d69f2d1d86fd05f3bbe120c2.fragment1.pitch3.flac\n",
      "spoken_language_dataset/build\\train\\de_f_5d2e7f30d69f2d1d86fd05f3bbe120c2.fragment1.pitch4.flac\n"
     ]
    },
    {
     "name": "stderr",
     "output_type": "stream",
     "text": [
      "Lossy conversion from float32 to uint8. Range [-250.72190856933594, -12.195496559143066]. Convert image to uint8 prior to saving to suppress this warning.\n",
      "Lossy conversion from float32 to uint8. Range [-253.4479522705078, -15.693780899047852]. Convert image to uint8 prior to saving to suppress this warning.\n"
     ]
    },
    {
     "name": "stdout",
     "output_type": "stream",
     "text": [
      "spoken_language_dataset/build\\train\\de_f_5d2e7f30d69f2d1d86fd05f3bbe120c2.fragment1.speed1.flac\n",
      "spoken_language_dataset/build\\train\\de_f_5d2e7f30d69f2d1d86fd05f3bbe120c2.fragment1.speed2.flac\n"
     ]
    },
    {
     "name": "stderr",
     "output_type": "stream",
     "text": [
      "Lossy conversion from float32 to uint8. Range [-233.3057861328125, -16.829530715942383]. Convert image to uint8 prior to saving to suppress this warning.\n",
      "Lossy conversion from float32 to uint8. Range [-246.1562957763672, -13.471954345703125]. Convert image to uint8 prior to saving to suppress this warning.\n"
     ]
    },
    {
     "name": "stdout",
     "output_type": "stream",
     "text": [
      "spoken_language_dataset/build\\train\\de_f_5d2e7f30d69f2d1d86fd05f3bbe120c2.fragment1.speed3.flac\n",
      "spoken_language_dataset/build\\train\\de_f_5d2e7f30d69f2d1d86fd05f3bbe120c2.fragment1.speed4.flac\n"
     ]
    },
    {
     "name": "stderr",
     "output_type": "stream",
     "text": [
      "Lossy conversion from float32 to uint8. Range [-283.4521789550781, -12.573054313659668]. Convert image to uint8 prior to saving to suppress this warning.\n",
      "Lossy conversion from float32 to uint8. Range [-320.93023681640625, -16.015901565551758]. Convert image to uint8 prior to saving to suppress this warning.\n"
     ]
    },
    {
     "name": "stdout",
     "output_type": "stream",
     "text": [
      "spoken_language_dataset/build\\train\\de_f_6cc5c71681c0abc094a869e03b357384.fragment1.flac\n",
      "spoken_language_dataset/build\\train\\de_f_6cc5c71681c0abc094a869e03b357384.fragment1.noise1.flac\n"
     ]
    },
    {
     "name": "stderr",
     "output_type": "stream",
     "text": [
      "Lossy conversion from float32 to uint8. Range [-171.08602905273438, -28.048913955688477]. Convert image to uint8 prior to saving to suppress this warning.\n",
      "Lossy conversion from float32 to uint8. Range [-189.22744750976562, -28.04253578186035]. Convert image to uint8 prior to saving to suppress this warning.\n"
     ]
    },
    {
     "name": "stdout",
     "output_type": "stream",
     "text": [
      "spoken_language_dataset/build\\train\\de_f_6cc5c71681c0abc094a869e03b357384.fragment1.noise2.flac\n",
      "spoken_language_dataset/build\\train\\de_f_6cc5c71681c0abc094a869e03b357384.fragment1.noise3.flac\n"
     ]
    },
    {
     "name": "stderr",
     "output_type": "stream",
     "text": [
      "Lossy conversion from float32 to uint8. Range [-204.44403076171875, -28.015235900878906]. Convert image to uint8 prior to saving to suppress this warning.\n",
      "Lossy conversion from float32 to uint8. Range [-162.64096069335938, -28.055130004882812]. Convert image to uint8 prior to saving to suppress this warning.\n"
     ]
    },
    {
     "name": "stdout",
     "output_type": "stream",
     "text": [
      "spoken_language_dataset/build\\train\\de_f_6cc5c71681c0abc094a869e03b357384.fragment1.noise4.flac\n",
      "spoken_language_dataset/build\\train\\de_f_6cc5c71681c0abc094a869e03b357384.fragment1.pitch1.flac\n"
     ]
    },
    {
     "name": "stderr",
     "output_type": "stream",
     "text": [
      "Lossy conversion from float32 to uint8. Range [-300.6446228027344, -19.047115325927734]. Convert image to uint8 prior to saving to suppress this warning.\n",
      "Lossy conversion from float32 to uint8. Range [-308.01959228515625, -15.087142944335938]. Convert image to uint8 prior to saving to suppress this warning.\n"
     ]
    },
    {
     "name": "stdout",
     "output_type": "stream",
     "text": [
      "spoken_language_dataset/build\\train\\de_f_6cc5c71681c0abc094a869e03b357384.fragment1.pitch2.flac\n",
      "spoken_language_dataset/build\\train\\de_f_6cc5c71681c0abc094a869e03b357384.fragment1.pitch3.flac\n"
     ]
    },
    {
     "name": "stderr",
     "output_type": "stream",
     "text": [
      "Lossy conversion from float32 to uint8. Range [-308.06158447265625, -14.816583633422852]. Convert image to uint8 prior to saving to suppress this warning.\n",
      "Lossy conversion from float32 to uint8. Range [-337.3117370605469, -13.804409980773926]. Convert image to uint8 prior to saving to suppress this warning.\n"
     ]
    },
    {
     "name": "stdout",
     "output_type": "stream",
     "text": [
      "spoken_language_dataset/build\\train\\de_f_6cc5c71681c0abc094a869e03b357384.fragment1.pitch4.flac\n",
      "spoken_language_dataset/build\\train\\de_f_6cc5c71681c0abc094a869e03b357384.fragment1.speed1.flac\n"
     ]
    },
    {
     "name": "stderr",
     "output_type": "stream",
     "text": [
      "Lossy conversion from float32 to uint8. Range [-330.7206726074219, -15.513630867004395]. Convert image to uint8 prior to saving to suppress this warning.\n"
     ]
    },
    {
     "name": "stdout",
     "output_type": "stream",
     "text": [
      "spoken_language_dataset/build\\train\\de_f_6cc5c71681c0abc094a869e03b357384.fragment1.speed2.flac\n"
     ]
    },
    {
     "name": "stderr",
     "output_type": "stream",
     "text": [
      "Lossy conversion from float32 to uint8. Range [-312.45489501953125, -16.788869857788086]. Convert image to uint8 prior to saving to suppress this warning.\n",
      "Lossy conversion from float32 to uint8. Range [-303.23858642578125, -14.228104591369629]. Convert image to uint8 prior to saving to suppress this warning.\n"
     ]
    },
    {
     "name": "stdout",
     "output_type": "stream",
     "text": [
      "spoken_language_dataset/build\\train\\de_f_6cc5c71681c0abc094a869e03b357384.fragment1.speed3.flac\n",
      "spoken_language_dataset/build\\train\\de_f_6cc5c71681c0abc094a869e03b357384.fragment1.speed4.flac"
     ]
    },
    {
     "name": "stderr",
     "output_type": "stream",
     "text": [
      "Lossy conversion from float32 to uint8. Range [-307.83551025390625, -13.56511116027832]. Convert image to uint8 prior to saving to suppress this warning.\n"
     ]
    },
    {
     "name": "stdout",
     "output_type": "stream",
     "text": [
      "\n",
      "spoken_language_dataset/build\\train\\de_f_8e8ed685b0cf9f5bbd13a04629ee64c5.fragment1.flac\n"
     ]
    },
    {
     "name": "stderr",
     "output_type": "stream",
     "text": [
      "Lossy conversion from float32 to uint8. Range [-252.7225799560547, 7.0775065422058105]. Convert image to uint8 prior to saving to suppress this warning.\n",
      "Lossy conversion from float32 to uint8. Range [-163.92379760742188, -4.962505340576172]. Convert image to uint8 prior to saving to suppress this warning.\n",
      "Lossy conversion from float32 to uint8. Range [-171.66836547851562, -4.9614715576171875]. Convert image to uint8 prior to saving to suppress this warning.\n"
     ]
    },
    {
     "name": "stdout",
     "output_type": "stream",
     "text": [
      "spoken_language_dataset/build\\train\\de_f_8e8ed685b0cf9f5bbd13a04629ee64c5.fragment1.noise1.flac\n",
      "spoken_language_dataset/build\\train\\de_f_8e8ed685b0cf9f5bbd13a04629ee64c5.fragment1.noise2.flac\n"
     ]
    },
    {
     "name": "stderr",
     "output_type": "stream",
     "text": [
      "Lossy conversion from float32 to uint8. Range [-185.84365844726562, -4.938472747802734]. Convert image to uint8 prior to saving to suppress this warning.\n"
     ]
    },
    {
     "name": "stdout",
     "output_type": "stream",
     "text": [
      "spoken_language_dataset/build\\train\\de_f_8e8ed685b0cf9f5bbd13a04629ee64c5.fragment1.noise3.flac\n",
      "spoken_language_dataset/build\\train\\de_f_8e8ed685b0cf9f5bbd13a04629ee64c5.fragment1.noise4.flac\n"
     ]
    },
    {
     "name": "stderr",
     "output_type": "stream",
     "text": [
      "Lossy conversion from float32 to uint8. Range [-162.1961669921875, -4.967243671417236]. Convert image to uint8 prior to saving to suppress this warning.\n",
      "Lossy conversion from float32 to uint8. Range [-253.6811981201172, 5.380057334899902]. Convert image to uint8 prior to saving to suppress this warning.\n"
     ]
    },
    {
     "name": "stdout",
     "output_type": "stream",
     "text": [
      "spoken_language_dataset/build\\train\\de_f_8e8ed685b0cf9f5bbd13a04629ee64c5.fragment1.pitch1.flac\n",
      "spoken_language_dataset/build\\train\\de_f_8e8ed685b0cf9f5bbd13a04629ee64c5.fragment1.pitch2.flac\n"
     ]
    },
    {
     "name": "stderr",
     "output_type": "stream",
     "text": [
      "Lossy conversion from float32 to uint8. Range [-261.7345886230469, 4.852001190185547]. Convert image to uint8 prior to saving to suppress this warning.\n",
      "Lossy conversion from float32 to uint8. Range [-273.29400634765625, 5.152798652648926]. Convert image to uint8 prior to saving to suppress this warning.\n"
     ]
    },
    {
     "name": "stdout",
     "output_type": "stream",
     "text": [
      "spoken_language_dataset/build\\train\\de_f_8e8ed685b0cf9f5bbd13a04629ee64c5.fragment1.pitch3.flac\n",
      "spoken_language_dataset/build\\train\\de_f_8e8ed685b0cf9f5bbd13a04629ee64c5.fragment1.pitch4.flac\n"
     ]
    },
    {
     "name": "stderr",
     "output_type": "stream",
     "text": [
      "Lossy conversion from float32 to uint8. Range [-279.3122863769531, 6.821503162384033]. Convert image to uint8 prior to saving to suppress this warning.\n",
      "Lossy conversion from float32 to uint8. Range [-258.95751953125, 1.734356164932251]. Convert image to uint8 prior to saving to suppress this warning.\n",
      "Lossy conversion from float32 to uint8. Range [-263.374755859375, 2.2972748279571533]. Convert image to uint8 prior to saving to suppress this warning.\n"
     ]
    },
    {
     "name": "stdout",
     "output_type": "stream",
     "text": [
      "spoken_language_dataset/build\\train\\de_f_8e8ed685b0cf9f5bbd13a04629ee64c5.fragment1.speed1.flac\n",
      "spoken_language_dataset/build\\train\\de_f_8e8ed685b0cf9f5bbd13a04629ee64c5.fragment1.speed2.flac\n"
     ]
    },
    {
     "name": "stderr",
     "output_type": "stream",
     "text": [
      "Lossy conversion from float32 to uint8. Range [-255.6319580078125, 5.872741222381592]. Convert image to uint8 prior to saving to suppress this warning.\n"
     ]
    },
    {
     "name": "stdout",
     "output_type": "stream",
     "text": [
      "spoken_language_dataset/build\\train\\de_f_8e8ed685b0cf9f5bbd13a04629ee64c5.fragment1.speed3.flac\n",
      "spoken_language_dataset/build\\train\\de_f_8e8ed685b0cf9f5bbd13a04629ee64c5.fragment1.speed4.flac\n"
     ]
    },
    {
     "name": "stderr",
     "output_type": "stream",
     "text": [
      "Lossy conversion from float32 to uint8. Range [-256.16070556640625, 5.528836727142334]. Convert image to uint8 prior to saving to suppress this warning.\n",
      "Lossy conversion from float32 to uint8. Range [-245.45477294921875, -31.67840003967285]. Convert image to uint8 prior to saving to suppress this warning.\n"
     ]
    },
    {
     "name": "stdout",
     "output_type": "stream",
     "text": [
      "spoken_language_dataset/build\\train\\de_m_1b27ef4569a51e82d6b2dfae8d565d25.fragment1.flac\n",
      "spoken_language_dataset/build\\train\\de_m_1b27ef4569a51e82d6b2dfae8d565d25.fragment1.noise1.flac\n"
     ]
    },
    {
     "name": "stderr",
     "output_type": "stream",
     "text": [
      "Lossy conversion from float32 to uint8. Range [-165.73411560058594, -43.60700607299805]. Convert image to uint8 prior to saving to suppress this warning.\n",
      "Lossy conversion from float32 to uint8. Range [-209.45701599121094, -43.825801849365234]. Convert image to uint8 prior to saving to suppress this warning.\n"
     ]
    },
    {
     "name": "stdout",
     "output_type": "stream",
     "text": [
      "spoken_language_dataset/build\\train\\de_m_1b27ef4569a51e82d6b2dfae8d565d25.fragment1.noise2.flac\n",
      "spoken_language_dataset/build\\train\\de_m_1b27ef4569a51e82d6b2dfae8d565d25.fragment1.noise3.flac\n"
     ]
    },
    {
     "name": "stderr",
     "output_type": "stream",
     "text": [
      "Lossy conversion from float32 to uint8. Range [-172.5860137939453, -43.72235870361328]. Convert image to uint8 prior to saving to suppress this warning.\n",
      "Lossy conversion from float32 to uint8. Range [-158.4684295654297, -43.887290954589844]. Convert image to uint8 prior to saving to suppress this warning.\n"
     ]
    },
    {
     "name": "stdout",
     "output_type": "stream",
     "text": [
      "spoken_language_dataset/build\\train\\de_m_1b27ef4569a51e82d6b2dfae8d565d25.fragment1.noise4.flac\n"
     ]
    },
    {
     "name": "stderr",
     "output_type": "stream",
     "text": [
      "Lossy conversion from float32 to uint8. Range [-254.7473602294922, -30.9844970703125]. Convert image to uint8 prior to saving to suppress this warning.\n"
     ]
    },
    {
     "name": "stdout",
     "output_type": "stream",
     "text": [
      "spoken_language_dataset/build\\train\\de_m_1b27ef4569a51e82d6b2dfae8d565d25.fragment1.pitch1.flac\n",
      "spoken_language_dataset/build\\train\\de_m_1b27ef4569a51e82d6b2dfae8d565d25.fragment1.pitch2.flac"
     ]
    },
    {
     "name": "stderr",
     "output_type": "stream",
     "text": [
      "Lossy conversion from float32 to uint8. Range [-238.4417266845703, -34.068946838378906]. Convert image to uint8 prior to saving to suppress this warning.\n"
     ]
    },
    {
     "name": "stdout",
     "output_type": "stream",
     "text": [
      "\n",
      "spoken_language_dataset/build\\train\\de_m_1b27ef4569a51e82d6b2dfae8d565d25.fragment1.pitch3.flac\n"
     ]
    },
    {
     "name": "stderr",
     "output_type": "stream",
     "text": [
      "Lossy conversion from float32 to uint8. Range [-242.88926696777344, -31.591428756713867]. Convert image to uint8 prior to saving to suppress this warning.\n",
      "Lossy conversion from float32 to uint8. Range [-235.68008422851562, -31.31916618347168]. Convert image to uint8 prior to saving to suppress this warning.\n"
     ]
    },
    {
     "name": "stdout",
     "output_type": "stream",
     "text": [
      "spoken_language_dataset/build\\train\\de_m_1b27ef4569a51e82d6b2dfae8d565d25.fragment1.pitch4.flac\n"
     ]
    },
    {
     "name": "stderr",
     "output_type": "stream",
     "text": [
      "Lossy conversion from float32 to uint8. Range [-245.6730499267578, -33.851070404052734]. Convert image to uint8 prior to saving to suppress this warning.\n"
     ]
    },
    {
     "name": "stdout",
     "output_type": "stream",
     "text": [
      "spoken_language_dataset/build\\train\\de_m_1b27ef4569a51e82d6b2dfae8d565d25.fragment1.speed1.flac\n",
      "spoken_language_dataset/build\\train\\de_m_1b27ef4569a51e82d6b2dfae8d565d25.fragment1.speed2.flac\n"
     ]
    },
    {
     "name": "stderr",
     "output_type": "stream",
     "text": [
      "Lossy conversion from float32 to uint8. Range [-256.8905029296875, -34.40144348144531]. Convert image to uint8 prior to saving to suppress this warning.\n",
      "Lossy conversion from float32 to uint8. Range [-239.1764373779297, -31.43820571899414]. Convert image to uint8 prior to saving to suppress this warning.\n"
     ]
    },
    {
     "name": "stdout",
     "output_type": "stream",
     "text": [
      "spoken_language_dataset/build\\train\\de_m_1b27ef4569a51e82d6b2dfae8d565d25.fragment1.speed3.flac\n",
      "spoken_language_dataset/build\\train\\de_m_1b27ef4569a51e82d6b2dfae8d565d25.fragment1.speed4.flac\n"
     ]
    },
    {
     "name": "stderr",
     "output_type": "stream",
     "text": [
      "Lossy conversion from float32 to uint8. Range [-235.91554260253906, -30.74041175842285]. Convert image to uint8 prior to saving to suppress this warning.\n",
      "Lossy conversion from float32 to uint8. Range [-247.21490478515625, -2.6284823417663574]. Convert image to uint8 prior to saving to suppress this warning.\n"
     ]
    },
    {
     "name": "stdout",
     "output_type": "stream",
     "text": [
      "spoken_language_dataset/build\\train\\de_m_2cfa348b2b6852e38637a4225158678d.fragment1.flac\n",
      "spoken_language_dataset/build\\train\\de_m_2cfa348b2b6852e38637a4225158678d.fragment1.noise1.flac\n"
     ]
    },
    {
     "name": "stderr",
     "output_type": "stream",
     "text": [
      "Lossy conversion from float32 to uint8. Range [-173.3450164794922, -14.610811233520508]. Convert image to uint8 prior to saving to suppress this warning.\n",
      "Lossy conversion from float32 to uint8. Range [-195.0598602294922, -14.659957885742188]. Convert image to uint8 prior to saving to suppress this warning.\n"
     ]
    },
    {
     "name": "stdout",
     "output_type": "stream",
     "text": [
      "spoken_language_dataset/build\\train\\de_m_2cfa348b2b6852e38637a4225158678d.fragment1.noise2.flac\n"
     ]
    },
    {
     "name": "stderr",
     "output_type": "stream",
     "text": [
      "Lossy conversion from float32 to uint8. Range [-189.62164306640625, -14.701750755310059]. Convert image to uint8 prior to saving to suppress this warning.\n"
     ]
    },
    {
     "name": "stdout",
     "output_type": "stream",
     "text": [
      "spoken_language_dataset/build\\train\\de_m_2cfa348b2b6852e38637a4225158678d.fragment1.noise3.flac\n",
      "spoken_language_dataset/build\\train\\de_m_2cfa348b2b6852e38637a4225158678d.fragment1.noise4.flac\n"
     ]
    },
    {
     "name": "stderr",
     "output_type": "stream",
     "text": [
      "Lossy conversion from float32 to uint8. Range [-158.05886840820312, -14.676939010620117]. Convert image to uint8 prior to saving to suppress this warning.\n",
      "Lossy conversion from float32 to uint8. Range [-253.5485382080078, -6.308727264404297]. Convert image to uint8 prior to saving to suppress this warning.\n"
     ]
    },
    {
     "name": "stdout",
     "output_type": "stream",
     "text": [
      "spoken_language_dataset/build\\train\\de_m_2cfa348b2b6852e38637a4225158678d.fragment1.pitch1.flac\n",
      "spoken_language_dataset/build\\train\\de_m_2cfa348b2b6852e38637a4225158678d.fragment1.pitch2.flac\n"
     ]
    },
    {
     "name": "stderr",
     "output_type": "stream",
     "text": [
      "Lossy conversion from float32 to uint8. Range [-257.1103210449219, -6.085618019104004]. Convert image to uint8 prior to saving to suppress this warning.\n",
      "Lossy conversion from float32 to uint8. Range [-257.45135498046875, -3.2136151790618896]. Convert image to uint8 prior to saving to suppress this warning.\n",
      "Lossy conversion from float32 to uint8. Range [-253.0577392578125, -4.652650833129883]. Convert image to uint8 prior to saving to suppress this warning.\n"
     ]
    },
    {
     "name": "stdout",
     "output_type": "stream",
     "text": [
      "spoken_language_dataset/build\\train\\de_m_2cfa348b2b6852e38637a4225158678d.fragment1.pitch3.flac\n",
      "spoken_language_dataset/build\\train\\de_m_2cfa348b2b6852e38637a4225158678d.fragment1.pitch4.flac\n"
     ]
    },
    {
     "name": "stderr",
     "output_type": "stream",
     "text": [
      "Lossy conversion from float32 to uint8. Range [-258.26531982421875, -3.5225939750671387]. Convert image to uint8 prior to saving to suppress this warning.\n"
     ]
    },
    {
     "name": "stdout",
     "output_type": "stream",
     "text": [
      "spoken_language_dataset/build\\train\\de_m_2cfa348b2b6852e38637a4225158678d.fragment1.speed1.flac\n",
      "spoken_language_dataset/build\\train\\de_m_2cfa348b2b6852e38637a4225158678d.fragment1.speed2.flac\n"
     ]
    },
    {
     "name": "stderr",
     "output_type": "stream",
     "text": [
      "Lossy conversion from float32 to uint8. Range [-255.13182067871094, -7.201962471008301]. Convert image to uint8 prior to saving to suppress this warning.\n",
      "Lossy conversion from float32 to uint8. Range [-254.5931396484375, -4.576004981994629]. Convert image to uint8 prior to saving to suppress this warning.\n"
     ]
    },
    {
     "name": "stdout",
     "output_type": "stream",
     "text": [
      "spoken_language_dataset/build\\train\\de_m_2cfa348b2b6852e38637a4225158678d.fragment1.speed3.flac\n"
     ]
    },
    {
     "name": "stderr",
     "output_type": "stream",
     "text": [
      "Lossy conversion from float32 to uint8. Range [-259.869873046875, -3.2194056510925293]. Convert image to uint8 prior to saving to suppress this warning.\n"
     ]
    },
    {
     "name": "stdout",
     "output_type": "stream",
     "text": [
      "spoken_language_dataset/build\\train\\de_m_2cfa348b2b6852e38637a4225158678d.fragment1.speed4.flac\n",
      "spoken_language_dataset/build\\train\\de_m_3aa01c55ba7ca85cad2977c848eb826f.fragment1.flac\n"
     ]
    },
    {
     "name": "stderr",
     "output_type": "stream",
     "text": [
      "Lossy conversion from float32 to uint8. Range [-260.38446044921875, -8.641912460327148]. Convert image to uint8 prior to saving to suppress this warning.\n",
      "Lossy conversion from float32 to uint8. Range [-172.92538452148438, -20.681312561035156]. Convert image to uint8 prior to saving to suppress this warning.\n",
      "Lossy conversion from float32 to uint8. Range [-160.99806213378906, -20.68440818786621]. Convert image to uint8 prior to saving to suppress this warning.\n"
     ]
    },
    {
     "name": "stdout",
     "output_type": "stream",
     "text": [
      "spoken_language_dataset/build\\train\\de_m_3aa01c55ba7ca85cad2977c848eb826f.fragment1.noise1.flac\n",
      "spoken_language_dataset/build\\train\\de_m_3aa01c55ba7ca85cad2977c848eb826f.fragment1.noise2.flac\n"
     ]
    },
    {
     "name": "stderr",
     "output_type": "stream",
     "text": [
      "Lossy conversion from float32 to uint8. Range [-190.67982482910156, -20.683595657348633]. Convert image to uint8 prior to saving to suppress this warning.\n"
     ]
    },
    {
     "name": "stdout",
     "output_type": "stream",
     "text": [
      "spoken_language_dataset/build\\train\\de_m_3aa01c55ba7ca85cad2977c848eb826f.fragment1.noise3.flac\n",
      "spoken_language_dataset/build\\train\\de_m_3aa01c55ba7ca85cad2977c848eb826f.fragment1.noise4.flac\n"
     ]
    },
    {
     "name": "stderr",
     "output_type": "stream",
     "text": [
      "Lossy conversion from float32 to uint8. Range [-161.28855895996094, -20.684354782104492]. Convert image to uint8 prior to saving to suppress this warning.\n"
     ]
    },
    {
     "name": "stdout",
     "output_type": "stream",
     "text": [
      "spoken_language_dataset/build\\train\\de_m_3aa01c55ba7ca85cad2977c848eb826f.fragment1.pitch1.flac\n"
     ]
    },
    {
     "name": "stderr",
     "output_type": "stream",
     "text": [
      "Lossy conversion from float32 to uint8. Range [-255.76332092285156, -12.883811950683594]. Convert image to uint8 prior to saving to suppress this warning.\n"
     ]
    },
    {
     "name": "stdout",
     "output_type": "stream",
     "text": [
      "spoken_language_dataset/build\\train\\de_m_3aa01c55ba7ca85cad2977c848eb826f.fragment1.pitch2.flac\n"
     ]
    },
    {
     "name": "stderr",
     "output_type": "stream",
     "text": [
      "Lossy conversion from float32 to uint8. Range [-256.2921142578125, -9.609865188598633]. Convert image to uint8 prior to saving to suppress this warning.\n",
      "Lossy conversion from float32 to uint8. Range [-267.4775695800781, -5.693521022796631]. Convert image to uint8 prior to saving to suppress this warning.\n"
     ]
    },
    {
     "name": "stdout",
     "output_type": "stream",
     "text": [
      "spoken_language_dataset/build\\train\\de_m_3aa01c55ba7ca85cad2977c848eb826f.fragment1.pitch3.flac\n",
      "spoken_language_dataset/build\\train\\de_m_3aa01c55ba7ca85cad2977c848eb826f.fragment1.pitch4.flac\n"
     ]
    },
    {
     "name": "stderr",
     "output_type": "stream",
     "text": [
      "Lossy conversion from float32 to uint8. Range [-256.4331359863281, -7.306570529937744]. Convert image to uint8 prior to saving to suppress this warning.\n",
      "Lossy conversion from float32 to uint8. Range [-268.3048400878906, -7.675715923309326]. Convert image to uint8 prior to saving to suppress this warning.\n"
     ]
    },
    {
     "name": "stdout",
     "output_type": "stream",
     "text": [
      "spoken_language_dataset/build\\train\\de_m_3aa01c55ba7ca85cad2977c848eb826f.fragment1.speed1.flac\n",
      "spoken_language_dataset/build\\train\\de_m_3aa01c55ba7ca85cad2977c848eb826f.fragment1.speed2.flac\n"
     ]
    },
    {
     "name": "stderr",
     "output_type": "stream",
     "text": [
      "Lossy conversion from float32 to uint8. Range [-247.85728454589844, -9.538209915161133]. Convert image to uint8 prior to saving to suppress this warning.\n"
     ]
    },
    {
     "name": "stdout",
     "output_type": "stream",
     "text": [
      "spoken_language_dataset/build\\train\\de_m_3aa01c55ba7ca85cad2977c848eb826f.fragment1.speed3.flac\n"
     ]
    },
    {
     "name": "stderr",
     "output_type": "stream",
     "text": [
      "Lossy conversion from float32 to uint8. Range [-294.7796630859375, -6.7937140464782715]. Convert image to uint8 prior to saving to suppress this warning.\n",
      "Lossy conversion from float32 to uint8. Range [-275.070556640625, -8.108158111572266]. Convert image to uint8 prior to saving to suppress this warning.\n"
     ]
    },
    {
     "name": "stdout",
     "output_type": "stream",
     "text": [
      "spoken_language_dataset/build\\train\\de_m_3aa01c55ba7ca85cad2977c848eb826f.fragment1.speed4.flac\n",
      "spoken_language_dataset/build\\train\\en_f_31da456c78eb5cf86d2b447e2fbfb736.fragment1.flac\n"
     ]
    },
    {
     "name": "stderr",
     "output_type": "stream",
     "text": [
      "Lossy conversion from float32 to uint8. Range [-231.77915954589844, 5.355119228363037]. Convert image to uint8 prior to saving to suppress this warning.\n",
      "Lossy conversion from float32 to uint8. Range [-176.5297393798828, -6.711193561553955]. Convert image to uint8 prior to saving to suppress this warning.\n",
      "Lossy conversion from float32 to uint8. Range [-176.11268615722656, -6.689100742340088]. Convert image to uint8 prior to saving to suppress this warning.\n"
     ]
    },
    {
     "name": "stdout",
     "output_type": "stream",
     "text": [
      "spoken_language_dataset/build\\train\\en_f_31da456c78eb5cf86d2b447e2fbfb736.fragment1.noise1.flac\n",
      "spoken_language_dataset/build\\train\\en_f_31da456c78eb5cf86d2b447e2fbfb736.fragment1.noise2.flac\n",
      "spoken_language_dataset/build\\train\\en_f_31da456c78eb5cf86d2b447e2fbfb736.fragment1.noise3.flac\n"
     ]
    },
    {
     "name": "stderr",
     "output_type": "stream",
     "text": [
      "Lossy conversion from float32 to uint8. Range [-173.3511505126953, -6.5948591232299805]. Convert image to uint8 prior to saving to suppress this warning.\n",
      "Lossy conversion from float32 to uint8. Range [-158.1237335205078, -6.687770366668701]. Convert image to uint8 prior to saving to suppress this warning.\n"
     ]
    },
    {
     "name": "stdout",
     "output_type": "stream",
     "text": [
      "spoken_language_dataset/build\\train\\en_f_31da456c78eb5cf86d2b447e2fbfb736.fragment1.noise4.flac\n",
      "spoken_language_dataset/build\\train\\en_f_31da456c78eb5cf86d2b447e2fbfb736.fragment1.pitch1.flac\n"
     ]
    },
    {
     "name": "stderr",
     "output_type": "stream",
     "text": [
      "Lossy conversion from float32 to uint8. Range [-239.1676788330078, -1.1649545431137085]. Convert image to uint8 prior to saving to suppress this warning.\n"
     ]
    },
    {
     "name": "stdout",
     "output_type": "stream",
     "text": [
      "spoken_language_dataset/build\\train\\en_f_31da456c78eb5cf86d2b447e2fbfb736.fragment1.pitch2.flac\n"
     ]
    },
    {
     "name": "stderr",
     "output_type": "stream",
     "text": [
      "Lossy conversion from float32 to uint8. Range [-233.13787841796875, 1.1991223096847534]. Convert image to uint8 prior to saving to suppress this warning.\n",
      "Lossy conversion from float32 to uint8. Range [-226.258544921875, 3.886019468307495]. Convert image to uint8 prior to saving to suppress this warning.\n"
     ]
    },
    {
     "name": "stdout",
     "output_type": "stream",
     "text": [
      "spoken_language_dataset/build\\train\\en_f_31da456c78eb5cf86d2b447e2fbfb736.fragment1.pitch3.flac\n",
      "spoken_language_dataset/build\\train\\en_f_31da456c78eb5cf86d2b447e2fbfb736.fragment1.pitch4.flac\n"
     ]
    },
    {
     "name": "stderr",
     "output_type": "stream",
     "text": [
      "Lossy conversion from float32 to uint8. Range [-234.0447540283203, 2.229496955871582]. Convert image to uint8 prior to saving to suppress this warning.\n",
      "Lossy conversion from float32 to uint8. Range [-231.85218811035156, 2.5381102561950684]. Convert image to uint8 prior to saving to suppress this warning.\n",
      "Lossy conversion from float32 to uint8. Range [-229.01983642578125, 1.9779325723648071]. Convert image to uint8 prior to saving to suppress this warning.\n"
     ]
    },
    {
     "name": "stdout",
     "output_type": "stream",
     "text": [
      "spoken_language_dataset/build\\train\\en_f_31da456c78eb5cf86d2b447e2fbfb736.fragment1.speed1.flac\n",
      "spoken_language_dataset/build\\train\\en_f_31da456c78eb5cf86d2b447e2fbfb736.fragment1.speed2.flac\n"
     ]
    },
    {
     "name": "stderr",
     "output_type": "stream",
     "text": [
      "Lossy conversion from float32 to uint8. Range [-238.5984649658203, 0.9610582590103149]. Convert image to uint8 prior to saving to suppress this warning.\n"
     ]
    },
    {
     "name": "stdout",
     "output_type": "stream",
     "text": [
      "spoken_language_dataset/build\\train\\en_f_31da456c78eb5cf86d2b447e2fbfb736.fragment1.speed3.flac\n"
     ]
    },
    {
     "name": "stderr",
     "output_type": "stream",
     "text": [
      "Lossy conversion from float32 to uint8. Range [-240.0199432373047, 5.566320419311523]. Convert image to uint8 prior to saving to suppress this warning.\n"
     ]
    },
    {
     "name": "stdout",
     "output_type": "stream",
     "text": [
      "spoken_language_dataset/build\\train\\en_f_31da456c78eb5cf86d2b447e2fbfb736.fragment1.speed4.flac\n"
     ]
    },
    {
     "name": "stderr",
     "output_type": "stream",
     "text": [
      "Lossy conversion from float32 to uint8. Range [-221.67532348632812, -13.351698875427246]. Convert image to uint8 prior to saving to suppress this warning.\n"
     ]
    },
    {
     "name": "stdout",
     "output_type": "stream",
     "text": [
      "spoken_language_dataset/build\\train\\en_f_5dff2b7b319207972450f91d569b5a16.fragment1.flac\n",
      "spoken_language_dataset/build\\train\\en_f_5dff2b7b319207972450f91d569b5a16.fragment1.noise1.flac"
     ]
    },
    {
     "name": "stderr",
     "output_type": "stream",
     "text": [
      "Lossy conversion from float32 to uint8. Range [-165.04367065429688, -25.282480239868164]. Convert image to uint8 prior to saving to suppress this warning.\n"
     ]
    },
    {
     "name": "stdout",
     "output_type": "stream",
     "text": [
      "\n",
      "spoken_language_dataset/build\\train\\en_f_5dff2b7b319207972450f91d569b5a16.fragment1.noise2.flac"
     ]
    },
    {
     "name": "stderr",
     "output_type": "stream",
     "text": [
      "Lossy conversion from float32 to uint8. Range [-194.33819580078125, -25.40850257873535]. Convert image to uint8 prior to saving to suppress this warning.\n"
     ]
    },
    {
     "name": "stdout",
     "output_type": "stream",
     "text": [
      "\n",
      "spoken_language_dataset/build\\train\\en_f_5dff2b7b319207972450f91d569b5a16.fragment1.noise3.flac\n"
     ]
    },
    {
     "name": "stderr",
     "output_type": "stream",
     "text": [
      "Lossy conversion from float32 to uint8. Range [-177.3319549560547, -25.243331909179688]. Convert image to uint8 prior to saving to suppress this warning.\n"
     ]
    },
    {
     "name": "stdout",
     "output_type": "stream",
     "text": [
      "spoken_language_dataset/build\\train\\en_f_5dff2b7b319207972450f91d569b5a16.fragment1.noise4.flac\n"
     ]
    },
    {
     "name": "stderr",
     "output_type": "stream",
     "text": [
      "Lossy conversion from float32 to uint8. Range [-158.5211944580078, -25.40369987487793]. Convert image to uint8 prior to saving to suppress this warning.\n",
      "Lossy conversion from float32 to uint8. Range [-244.06524658203125, -17.04471206665039]. Convert image to uint8 prior to saving to suppress this warning.\n"
     ]
    },
    {
     "name": "stdout",
     "output_type": "stream",
     "text": [
      "spoken_language_dataset/build\\train\\en_f_5dff2b7b319207972450f91d569b5a16.fragment1.pitch1.flac\n",
      "spoken_language_dataset/build\\train\\en_f_5dff2b7b319207972450f91d569b5a16.fragment1.pitch2.flac\n"
     ]
    },
    {
     "name": "stderr",
     "output_type": "stream",
     "text": [
      "Lossy conversion from float32 to uint8. Range [-214.74728393554688, -16.03849983215332]. Convert image to uint8 prior to saving to suppress this warning.\n"
     ]
    },
    {
     "name": "stdout",
     "output_type": "stream",
     "text": [
      "spoken_language_dataset/build\\train\\en_f_5dff2b7b319207972450f91d569b5a16.fragment1.pitch3.flac\n"
     ]
    },
    {
     "name": "stderr",
     "output_type": "stream",
     "text": [
      "Lossy conversion from float32 to uint8. Range [-221.54061889648438, -13.101198196411133]. Convert image to uint8 prior to saving to suppress this warning.\n"
     ]
    },
    {
     "name": "stdout",
     "output_type": "stream",
     "text": [
      "spoken_language_dataset/build\\train\\en_f_5dff2b7b319207972450f91d569b5a16.fragment1.pitch4.flac\n"
     ]
    },
    {
     "name": "stderr",
     "output_type": "stream",
     "text": [
      "Lossy conversion from float32 to uint8. Range [-226.20855712890625, -17.19996452331543]. Convert image to uint8 prior to saving to suppress this warning.\n",
      "Lossy conversion from float32 to uint8. Range [-231.49974060058594, -14.248711585998535]. Convert image to uint8 prior to saving to suppress this warning.\n"
     ]
    },
    {
     "name": "stdout",
     "output_type": "stream",
     "text": [
      "spoken_language_dataset/build\\train\\en_f_5dff2b7b319207972450f91d569b5a16.fragment1.speed1.flac\n",
      "spoken_language_dataset/build\\train\\en_f_5dff2b7b319207972450f91d569b5a16.fragment1.speed2.flac\n"
     ]
    },
    {
     "name": "stderr",
     "output_type": "stream",
     "text": [
      "Lossy conversion from float32 to uint8. Range [-240.09140014648438, -15.526532173156738]. Convert image to uint8 prior to saving to suppress this warning.\n",
      "Lossy conversion from float32 to uint8. Range [-204.2462158203125, -17.487895965576172]. Convert image to uint8 prior to saving to suppress this warning.\n"
     ]
    },
    {
     "name": "stdout",
     "output_type": "stream",
     "text": [
      "spoken_language_dataset/build\\train\\en_f_5dff2b7b319207972450f91d569b5a16.fragment1.speed3.flac\n",
      "spoken_language_dataset/build\\train\\en_f_5dff2b7b319207972450f91d569b5a16.fragment1.speed4.flac\n"
     ]
    },
    {
     "name": "stderr",
     "output_type": "stream",
     "text": [
      "Lossy conversion from float32 to uint8. Range [-230.6399383544922, -15.64406681060791]. Convert image to uint8 prior to saving to suppress this warning.\n"
     ]
    },
    {
     "name": "stdout",
     "output_type": "stream",
     "text": [
      "spoken_language_dataset/build\\train\\en_f_9a47e3d56398b8108f59385aab8bbe87.fragment1.flac\n"
     ]
    },
    {
     "name": "stderr",
     "output_type": "stream",
     "text": [
      "Lossy conversion from float32 to uint8. Range [-235.97305297851562, -28.081350326538086]. Convert image to uint8 prior to saving to suppress this warning.\n"
     ]
    },
    {
     "name": "stdout",
     "output_type": "stream",
     "text": [
      "spoken_language_dataset/build\\train\\en_f_9a47e3d56398b8108f59385aab8bbe87.fragment1.noise1.flac\n"
     ]
    },
    {
     "name": "stderr",
     "output_type": "stream",
     "text": [
      "Lossy conversion from float32 to uint8. Range [-165.95355224609375, -38.87249755859375]. Convert image to uint8 prior to saving to suppress this warning.\n",
      "Lossy conversion from float32 to uint8. Range [-173.75392150878906, -39.90824508666992]. Convert image to uint8 prior to saving to suppress this warning.\n"
     ]
    },
    {
     "name": "stdout",
     "output_type": "stream",
     "text": [
      "spoken_language_dataset/build\\train\\en_f_9a47e3d56398b8108f59385aab8bbe87.fragment1.noise2.flac\n",
      "spoken_language_dataset/build\\train\\en_f_9a47e3d56398b8108f59385aab8bbe87.fragment1.noise3.flac\n"
     ]
    },
    {
     "name": "stderr",
     "output_type": "stream",
     "text": [
      "Lossy conversion from float32 to uint8. Range [-174.43255615234375, -39.175479888916016]. Convert image to uint8 prior to saving to suppress this warning.\n"
     ]
    },
    {
     "name": "stdout",
     "output_type": "stream",
     "text": [
      "spoken_language_dataset/build\\train\\en_f_9a47e3d56398b8108f59385aab8bbe87.fragment1.noise4.flac\n"
     ]
    },
    {
     "name": "stderr",
     "output_type": "stream",
     "text": [
      "Lossy conversion from float32 to uint8. Range [-159.02505493164062, -40.114593505859375]. Convert image to uint8 prior to saving to suppress this warning.\n"
     ]
    },
    {
     "name": "stdout",
     "output_type": "stream",
     "text": [
      "spoken_language_dataset/build\\train\\en_f_9a47e3d56398b8108f59385aab8bbe87.fragment1.pitch1.flac\n"
     ]
    },
    {
     "name": "stderr",
     "output_type": "stream",
     "text": [
      "Lossy conversion from float32 to uint8. Range [-280.4813232421875, -29.689939498901367]. Convert image to uint8 prior to saving to suppress this warning.\n"
     ]
    },
    {
     "name": "stdout",
     "output_type": "stream",
     "text": [
      "spoken_language_dataset/build\\train\\en_f_9a47e3d56398b8108f59385aab8bbe87.fragment1.pitch2.flac\n"
     ]
    },
    {
     "name": "stderr",
     "output_type": "stream",
     "text": [
      "Lossy conversion from float32 to uint8. Range [-246.3974151611328, -30.14204978942871]. Convert image to uint8 prior to saving to suppress this warning.\n",
      "Lossy conversion from float32 to uint8. Range [-270.1927795410156, -27.672622680664062]. Convert image to uint8 prior to saving to suppress this warning.\n"
     ]
    },
    {
     "name": "stdout",
     "output_type": "stream",
     "text": [
      "spoken_language_dataset/build\\train\\en_f_9a47e3d56398b8108f59385aab8bbe87.fragment1.pitch3.flac\n",
      "spoken_language_dataset/build\\train\\en_f_9a47e3d56398b8108f59385aab8bbe87.fragment1.pitch4.flac\n"
     ]
    },
    {
     "name": "stderr",
     "output_type": "stream",
     "text": [
      "Lossy conversion from float32 to uint8. Range [-234.52264404296875, -29.813892364501953]. Convert image to uint8 prior to saving to suppress this warning.\n"
     ]
    },
    {
     "name": "stdout",
     "output_type": "stream",
     "text": [
      "spoken_language_dataset/build\\train\\en_f_9a47e3d56398b8108f59385aab8bbe87.fragment1.speed1.flac\n"
     ]
    },
    {
     "name": "stderr",
     "output_type": "stream",
     "text": [
      "Lossy conversion from float32 to uint8. Range [-247.4678497314453, -29.317363739013672]. Convert image to uint8 prior to saving to suppress this warning.\n"
     ]
    },
    {
     "name": "stdout",
     "output_type": "stream",
     "text": [
      "spoken_language_dataset/build\\train\\en_f_9a47e3d56398b8108f59385aab8bbe87.fragment1.speed2.flac\n"
     ]
    },
    {
     "name": "stderr",
     "output_type": "stream",
     "text": [
      "Lossy conversion from float32 to uint8. Range [-222.96368408203125, -30.618003845214844]. Convert image to uint8 prior to saving to suppress this warning.\n"
     ]
    },
    {
     "name": "stdout",
     "output_type": "stream",
     "text": [
      "spoken_language_dataset/build\\train\\en_f_9a47e3d56398b8108f59385aab8bbe87.fragment1.speed3.flac\n"
     ]
    },
    {
     "name": "stderr",
     "output_type": "stream",
     "text": [
      "Lossy conversion from float32 to uint8. Range [-241.2906494140625, -29.420875549316406]. Convert image to uint8 prior to saving to suppress this warning.\n"
     ]
    },
    {
     "name": "stdout",
     "output_type": "stream",
     "text": [
      "spoken_language_dataset/build\\train\\en_f_9a47e3d56398b8108f59385aab8bbe87.fragment1.speed4.flac\n"
     ]
    },
    {
     "name": "stderr",
     "output_type": "stream",
     "text": [
      "Lossy conversion from float32 to uint8. Range [-228.5586700439453, -27.137861251831055]. Convert image to uint8 prior to saving to suppress this warning.\n"
     ]
    },
    {
     "name": "stdout",
     "output_type": "stream",
     "text": [
      "spoken_language_dataset/build\\train\\en_m_011f3a2d0aa2880305c08b76873c3e10.fragment1.flac\n"
     ]
    },
    {
     "name": "stderr",
     "output_type": "stream",
     "text": [
      "Lossy conversion from float32 to uint8. Range [-223.0369873046875, -23.88860511779785]. Convert image to uint8 prior to saving to suppress this warning.\n",
      "Lossy conversion from float32 to uint8. Range [-177.05825805664062, -35.90031433105469]. Convert image to uint8 prior to saving to suppress this warning.\n"
     ]
    },
    {
     "name": "stdout",
     "output_type": "stream",
     "text": [
      "spoken_language_dataset/build\\train\\en_m_011f3a2d0aa2880305c08b76873c3e10.fragment1.noise1.flac\n",
      "spoken_language_dataset/build\\train\\en_m_011f3a2d0aa2880305c08b76873c3e10.fragment1.noise2.flac\n"
     ]
    },
    {
     "name": "stderr",
     "output_type": "stream",
     "text": [
      "Lossy conversion from float32 to uint8. Range [-174.76119995117188, -35.54107666015625]. Convert image to uint8 prior to saving to suppress this warning.\n",
      "Lossy conversion from float32 to uint8. Range [-179.276123046875, -35.75679016113281]. Convert image to uint8 prior to saving to suppress this warning.\n"
     ]
    },
    {
     "name": "stdout",
     "output_type": "stream",
     "text": [
      "spoken_language_dataset/build\\train\\en_m_011f3a2d0aa2880305c08b76873c3e10.fragment1.noise3.flac\n",
      "spoken_language_dataset/build\\train\\en_m_011f3a2d0aa2880305c08b76873c3e10.fragment1.noise4.flac\n"
     ]
    },
    {
     "name": "stderr",
     "output_type": "stream",
     "text": [
      "Lossy conversion from float32 to uint8. Range [-159.73216247558594, -35.84572982788086]. Convert image to uint8 prior to saving to suppress this warning.\n"
     ]
    },
    {
     "name": "stdout",
     "output_type": "stream",
     "text": [
      "spoken_language_dataset/build\\train\\en_m_011f3a2d0aa2880305c08b76873c3e10.fragment1.pitch1.flac\n"
     ]
    },
    {
     "name": "stderr",
     "output_type": "stream",
     "text": [
      "Lossy conversion from float32 to uint8. Range [-224.2377166748047, -25.72933578491211]. Convert image to uint8 prior to saving to suppress this warning.\n",
      "Lossy conversion from float32 to uint8. Range [-217.20411682128906, -25.831504821777344]. Convert image to uint8 prior to saving to suppress this warning.\n"
     ]
    },
    {
     "name": "stdout",
     "output_type": "stream",
     "text": [
      "spoken_language_dataset/build\\train\\en_m_011f3a2d0aa2880305c08b76873c3e10.fragment1.pitch2.flac\n",
      "spoken_language_dataset/build\\train\\en_m_011f3a2d0aa2880305c08b76873c3e10.fragment1.pitch3.flac\n"
     ]
    },
    {
     "name": "stderr",
     "output_type": "stream",
     "text": [
      "Lossy conversion from float32 to uint8. Range [-202.37599182128906, -24.489147186279297]. Convert image to uint8 prior to saving to suppress this warning.\n",
      "Lossy conversion from float32 to uint8. Range [-212.5328826904297, -25.89512062072754]. Convert image to uint8 prior to saving to suppress this warning.\n"
     ]
    },
    {
     "name": "stdout",
     "output_type": "stream",
     "text": [
      "spoken_language_dataset/build\\train\\en_m_011f3a2d0aa2880305c08b76873c3e10.fragment1.pitch4.flac\n",
      "spoken_language_dataset/build\\train\\en_m_011f3a2d0aa2880305c08b76873c3e10.fragment1.speed1.flac\n"
     ]
    },
    {
     "name": "stderr",
     "output_type": "stream",
     "text": [
      "Lossy conversion from float32 to uint8. Range [-216.33055114746094, -30.808692932128906]. Convert image to uint8 prior to saving to suppress this warning.\n",
      "Lossy conversion from float32 to uint8. Range [-207.59097290039062, -28.756423950195312]. Convert image to uint8 prior to saving to suppress this warning.\n"
     ]
    },
    {
     "name": "stdout",
     "output_type": "stream",
     "text": [
      "spoken_language_dataset/build\\train\\en_m_011f3a2d0aa2880305c08b76873c3e10.fragment1.speed2.flac\n",
      "spoken_language_dataset/build\\train\\en_m_011f3a2d0aa2880305c08b76873c3e10.fragment1.speed3.flac\n"
     ]
    },
    {
     "name": "stderr",
     "output_type": "stream",
     "text": [
      "Lossy conversion from float32 to uint8. Range [-198.1766815185547, -28.652313232421875]. Convert image to uint8 prior to saving to suppress this warning.\n",
      "Lossy conversion from float32 to uint8. Range [-277.44427490234375, -28.782201766967773]. Convert image to uint8 prior to saving to suppress this warning.\n"
     ]
    },
    {
     "name": "stdout",
     "output_type": "stream",
     "text": [
      "spoken_language_dataset/build\\train\\en_m_011f3a2d0aa2880305c08b76873c3e10.fragment1.speed4.flac\n",
      "spoken_language_dataset/build\\train\\en_m_1e512792ebab2bd93b7aacac3d521390.fragment1.flac\n"
     ]
    },
    {
     "name": "stderr",
     "output_type": "stream",
     "text": [
      "Lossy conversion from float32 to uint8. Range [-204.27471923828125, -16.67392921447754]. Convert image to uint8 prior to saving to suppress this warning.\n"
     ]
    },
    {
     "name": "stdout",
     "output_type": "stream",
     "text": [
      "spoken_language_dataset/build\\train\\en_m_1e512792ebab2bd93b7aacac3d521390.fragment1.noise1.flac\n"
     ]
    },
    {
     "name": "stderr",
     "output_type": "stream",
     "text": [
      "Lossy conversion from float32 to uint8. Range [-166.97369384765625, -28.716571807861328]. Convert image to uint8 prior to saving to suppress this warning.\n"
     ]
    },
    {
     "name": "stdout",
     "output_type": "stream",
     "text": [
      "spoken_language_dataset/build\\train\\en_m_1e512792ebab2bd93b7aacac3d521390.fragment1.noise2.flac\n"
     ]
    },
    {
     "name": "stderr",
     "output_type": "stream",
     "text": [
      "Lossy conversion from float32 to uint8. Range [-167.0443878173828, -28.704137802124023]. Convert image to uint8 prior to saving to suppress this warning.\n",
      "Lossy conversion from float32 to uint8. Range [-174.43722534179688, -28.84564208984375]. Convert image to uint8 prior to saving to suppress this warning.\n"
     ]
    },
    {
     "name": "stdout",
     "output_type": "stream",
     "text": [
      "spoken_language_dataset/build\\train\\en_m_1e512792ebab2bd93b7aacac3d521390.fragment1.noise3.flac\n",
      "spoken_language_dataset/build\\train\\en_m_1e512792ebab2bd93b7aacac3d521390.fragment1.noise4.flac\n"
     ]
    },
    {
     "name": "stderr",
     "output_type": "stream",
     "text": [
      "Lossy conversion from float32 to uint8. Range [-159.76490783691406, -28.700559616088867]. Convert image to uint8 prior to saving to suppress this warning.\n"
     ]
    },
    {
     "name": "stdout",
     "output_type": "stream",
     "text": [
      "spoken_language_dataset/build\\train\\en_m_1e512792ebab2bd93b7aacac3d521390.fragment1.pitch1.flac\n"
     ]
    },
    {
     "name": "stderr",
     "output_type": "stream",
     "text": [
      "Lossy conversion from float32 to uint8. Range [-202.86708068847656, -16.588258743286133]. Convert image to uint8 prior to saving to suppress this warning.\n",
      "Lossy conversion from float32 to uint8. Range [-205.2840576171875, -15.984448432922363]. Convert image to uint8 prior to saving to suppress this warning.\n"
     ]
    },
    {
     "name": "stdout",
     "output_type": "stream",
     "text": [
      "spoken_language_dataset/build\\train\\en_m_1e512792ebab2bd93b7aacac3d521390.fragment1.pitch2.flac\n",
      "spoken_language_dataset/build\\train\\en_m_1e512792ebab2bd93b7aacac3d521390.fragment1.pitch3.flac\n"
     ]
    },
    {
     "name": "stderr",
     "output_type": "stream",
     "text": [
      "Lossy conversion from float32 to uint8. Range [-207.89381408691406, -16.041566848754883]. Convert image to uint8 prior to saving to suppress this warning.\n"
     ]
    },
    {
     "name": "stdout",
     "output_type": "stream",
     "text": [
      "spoken_language_dataset/build\\train\\en_m_1e512792ebab2bd93b7aacac3d521390.fragment1.pitch4.flac\n"
     ]
    },
    {
     "name": "stderr",
     "output_type": "stream",
     "text": [
      "Lossy conversion from float32 to uint8. Range [-200.02114868164062, -16.726818084716797]. Convert image to uint8 prior to saving to suppress this warning.\n"
     ]
    },
    {
     "name": "stdout",
     "output_type": "stream",
     "text": [
      "spoken_language_dataset/build\\train\\en_m_1e512792ebab2bd93b7aacac3d521390.fragment1.speed1.flac\n"
     ]
    },
    {
     "name": "stderr",
     "output_type": "stream",
     "text": [
      "Lossy conversion from float32 to uint8. Range [-207.27708435058594, -20.599271774291992]. Convert image to uint8 prior to saving to suppress this warning.\n"
     ]
    },
    {
     "name": "stdout",
     "output_type": "stream",
     "text": [
      "spoken_language_dataset/build\\train\\en_m_1e512792ebab2bd93b7aacac3d521390.fragment1.speed2.flac\n"
     ]
    },
    {
     "name": "stderr",
     "output_type": "stream",
     "text": [
      "Lossy conversion from float32 to uint8. Range [-209.19728088378906, -18.49738883972168]. Convert image to uint8 prior to saving to suppress this warning.\n",
      "Lossy conversion from float32 to uint8. Range [-199.25379943847656, -16.371112823486328]. Convert image to uint8 prior to saving to suppress this warning.\n",
      "Lossy conversion from float32 to uint8. Range [-201.4740447998047, -16.21540069580078]. Convert image to uint8 prior to saving to suppress this warning.\n"
     ]
    },
    {
     "name": "stdout",
     "output_type": "stream",
     "text": [
      "spoken_language_dataset/build\\train\\en_m_1e512792ebab2bd93b7aacac3d521390.fragment1.speed3.flac\n",
      "spoken_language_dataset/build\\train\\en_m_1e512792ebab2bd93b7aacac3d521390.fragment1.speed4.flac\n",
      "spoken_language_dataset/build\\train\\en_m_6a5535d7512259e7bef76ff997750873.fragment1.flac"
     ]
    },
    {
     "name": "stderr",
     "output_type": "stream",
     "text": [
      "Lossy conversion from float32 to uint8. Range [-230.98202514648438, -30.84667205810547]. Convert image to uint8 prior to saving to suppress this warning.\n"
     ]
    },
    {
     "name": "stdout",
     "output_type": "stream",
     "text": [
      "\n",
      "spoken_language_dataset/build\\train\\en_m_6a5535d7512259e7bef76ff997750873.fragment1.noise1.flac\n"
     ]
    },
    {
     "name": "stderr",
     "output_type": "stream",
     "text": [
      "Lossy conversion from float32 to uint8. Range [-176.20053100585938, -42.9601936340332]. Convert image to uint8 prior to saving to suppress this warning.\n",
      "Lossy conversion from float32 to uint8. Range [-172.56724548339844, -42.887237548828125]. Convert image to uint8 prior to saving to suppress this warning.\n"
     ]
    },
    {
     "name": "stdout",
     "output_type": "stream",
     "text": [
      "spoken_language_dataset/build\\train\\en_m_6a5535d7512259e7bef76ff997750873.fragment1.noise2.flac\n",
      "spoken_language_dataset/build\\train\\en_m_6a5535d7512259e7bef76ff997750873.fragment1.noise3.flac"
     ]
    },
    {
     "name": "stderr",
     "output_type": "stream",
     "text": [
      "Lossy conversion from float32 to uint8. Range [-173.34193420410156, -42.74374771118164]. Convert image to uint8 prior to saving to suppress this warning.\n"
     ]
    },
    {
     "name": "stdout",
     "output_type": "stream",
     "text": [
      "\n",
      "spoken_language_dataset/build\\train\\en_m_6a5535d7512259e7bef76ff997750873.fragment1.noise4.flac\n"
     ]
    },
    {
     "name": "stderr",
     "output_type": "stream",
     "text": [
      "Lossy conversion from float32 to uint8. Range [-155.6944122314453, -42.856143951416016]. Convert image to uint8 prior to saving to suppress this warning.\n"
     ]
    },
    {
     "name": "stdout",
     "output_type": "stream",
     "text": [
      "spoken_language_dataset/build\\train\\en_m_6a5535d7512259e7bef76ff997750873.fragment1.pitch1.flac\n"
     ]
    },
    {
     "name": "stderr",
     "output_type": "stream",
     "text": [
      "Lossy conversion from float32 to uint8. Range [-228.5047149658203, -31.389612197875977]. Convert image to uint8 prior to saving to suppress this warning.\n",
      "Lossy conversion from float32 to uint8. Range [-227.8345184326172, -31.2335262298584]. Convert image to uint8 prior to saving to suppress this warning.\n"
     ]
    },
    {
     "name": "stdout",
     "output_type": "stream",
     "text": [
      "spoken_language_dataset/build\\train\\en_m_6a5535d7512259e7bef76ff997750873.fragment1.pitch2.flac\n",
      "spoken_language_dataset/build\\train\\en_m_6a5535d7512259e7bef76ff997750873.fragment1.pitch3.flac\n"
     ]
    },
    {
     "name": "stderr",
     "output_type": "stream",
     "text": [
      "Lossy conversion from float32 to uint8. Range [-245.44007873535156, -32.082454681396484]. Convert image to uint8 prior to saving to suppress this warning.\n",
      "Lossy conversion from float32 to uint8. Range [-255.77943420410156, -32.656368255615234]. Convert image to uint8 prior to saving to suppress this warning.\n"
     ]
    },
    {
     "name": "stdout",
     "output_type": "stream",
     "text": [
      "spoken_language_dataset/build\\train\\en_m_6a5535d7512259e7bef76ff997750873.fragment1.pitch4.flac\n",
      "spoken_language_dataset/build\\train\\en_m_6a5535d7512259e7bef76ff997750873.fragment1.speed1.flac\n"
     ]
    },
    {
     "name": "stderr",
     "output_type": "stream",
     "text": [
      "Lossy conversion from float32 to uint8. Range [-257.2456970214844, -33.505802154541016]. Convert image to uint8 prior to saving to suppress this warning.\n",
      "Lossy conversion from float32 to uint8. Range [-226.95521545410156, -34.0430908203125]. Convert image to uint8 prior to saving to suppress this warning.\n"
     ]
    },
    {
     "name": "stdout",
     "output_type": "stream",
     "text": [
      "spoken_language_dataset/build\\train\\en_m_6a5535d7512259e7bef76ff997750873.fragment1.speed2.flac\n",
      "spoken_language_dataset/build\\train\\en_m_6a5535d7512259e7bef76ff997750873.fragment1.speed3.flac\n"
     ]
    },
    {
     "name": "stderr",
     "output_type": "stream",
     "text": [
      "Lossy conversion from float32 to uint8. Range [-230.1073455810547, -31.252412796020508]. Convert image to uint8 prior to saving to suppress this warning.\n",
      "Lossy conversion from float32 to uint8. Range [-232.11175537109375, -31.200565338134766]. Convert image to uint8 prior to saving to suppress this warning.\n"
     ]
    },
    {
     "name": "stdout",
     "output_type": "stream",
     "text": [
      "spoken_language_dataset/build\\train\\en_m_6a5535d7512259e7bef76ff997750873.fragment1.speed4.flac\n",
      "spoken_language_dataset/build\\train\\es_f_1d27c6d589eeff17973ffd0b7a77a70a.fragment1.flac\n"
     ]
    },
    {
     "name": "stderr",
     "output_type": "stream",
     "text": [
      "Lossy conversion from float32 to uint8. Range [-192.70742797851562, -4.209863185882568]. Convert image to uint8 prior to saving to suppress this warning.\n",
      "Lossy conversion from float32 to uint8. Range [-170.1797332763672, -16.521480560302734]. Convert image to uint8 prior to saving to suppress this warning.\n"
     ]
    },
    {
     "name": "stdout",
     "output_type": "stream",
     "text": [
      "spoken_language_dataset/build\\train\\es_f_1d27c6d589eeff17973ffd0b7a77a70a.fragment1.noise1.flac\n",
      "spoken_language_dataset/build\\train\\es_f_1d27c6d589eeff17973ffd0b7a77a70a.fragment1.noise2.flac\n"
     ]
    },
    {
     "name": "stderr",
     "output_type": "stream",
     "text": [
      "Lossy conversion from float32 to uint8. Range [-178.42434692382812, -16.24700927734375]. Convert image to uint8 prior to saving to suppress this warning.\n",
      "Lossy conversion from float32 to uint8. Range [-181.81871032714844, -16.257144927978516]. Convert image to uint8 prior to saving to suppress this warning.\n",
      "Lossy conversion from float32 to uint8. Range [-148.92051696777344, -16.250030517578125]. Convert image to uint8 prior to saving to suppress this warning.\n"
     ]
    },
    {
     "name": "stdout",
     "output_type": "stream",
     "text": [
      "spoken_language_dataset/build\\train\\es_f_1d27c6d589eeff17973ffd0b7a77a70a.fragment1.noise3.flac\n",
      "spoken_language_dataset/build\\train\\es_f_1d27c6d589eeff17973ffd0b7a77a70a.fragment1.noise4.flac\n",
      "spoken_language_dataset/build\\train\\es_f_1d27c6d589eeff17973ffd0b7a77a70a.fragment1.pitch1.flac\n"
     ]
    },
    {
     "name": "stderr",
     "output_type": "stream",
     "text": [
      "Lossy conversion from float32 to uint8. Range [-191.20188903808594, -9.391215324401855]. Convert image to uint8 prior to saving to suppress this warning.\n",
      "Lossy conversion from float32 to uint8. Range [-194.4119873046875, -5.222897529602051]. Convert image to uint8 prior to saving to suppress this warning.\n"
     ]
    },
    {
     "name": "stdout",
     "output_type": "stream",
     "text": [
      "spoken_language_dataset/build\\train\\es_f_1d27c6d589eeff17973ffd0b7a77a70a.fragment1.pitch2.flac\n",
      "spoken_language_dataset/build\\train\\es_f_1d27c6d589eeff17973ffd0b7a77a70a.fragment1.pitch3.flac\n"
     ]
    },
    {
     "name": "stderr",
     "output_type": "stream",
     "text": [
      "Lossy conversion from float32 to uint8. Range [-190.79798889160156, -3.0932533740997314]. Convert image to uint8 prior to saving to suppress this warning.\n",
      "Lossy conversion from float32 to uint8. Range [-189.9523162841797, -3.063422203063965]. Convert image to uint8 prior to saving to suppress this warning.\n"
     ]
    },
    {
     "name": "stdout",
     "output_type": "stream",
     "text": [
      "spoken_language_dataset/build\\train\\es_f_1d27c6d589eeff17973ffd0b7a77a70a.fragment1.pitch4.flac\n",
      "spoken_language_dataset/build\\train\\es_f_1d27c6d589eeff17973ffd0b7a77a70a.fragment1.speed1.flac\n"
     ]
    },
    {
     "name": "stderr",
     "output_type": "stream",
     "text": [
      "Lossy conversion from float32 to uint8. Range [-198.12510681152344, -4.4911322593688965]. Convert image to uint8 prior to saving to suppress this warning.\n"
     ]
    },
    {
     "name": "stdout",
     "output_type": "stream",
     "text": [
      "spoken_language_dataset/build\\train\\es_f_1d27c6d589eeff17973ffd0b7a77a70a.fragment1.speed2.flac\n"
     ]
    },
    {
     "name": "stderr",
     "output_type": "stream",
     "text": [
      "Lossy conversion from float32 to uint8. Range [-189.14271545410156, -6.095833778381348]. Convert image to uint8 prior to saving to suppress this warning.\n",
      "Lossy conversion from float32 to uint8. Range [-206.17701721191406, -4.889406204223633]. Convert image to uint8 prior to saving to suppress this warning.\n"
     ]
    },
    {
     "name": "stdout",
     "output_type": "stream",
     "text": [
      "spoken_language_dataset/build\\train\\es_f_1d27c6d589eeff17973ffd0b7a77a70a.fragment1.speed3.flac\n",
      "spoken_language_dataset/build\\train\\es_f_1d27c6d589eeff17973ffd0b7a77a70a.fragment1.speed4.flac\n"
     ]
    },
    {
     "name": "stderr",
     "output_type": "stream",
     "text": [
      "Lossy conversion from float32 to uint8. Range [-192.29168701171875, -2.598323106765747]. Convert image to uint8 prior to saving to suppress this warning.\n",
      "Lossy conversion from float32 to uint8. Range [-271.47344970703125, 5.627106189727783]. Convert image to uint8 prior to saving to suppress this warning.\n",
      "Lossy conversion from float32 to uint8. Range [-161.89683532714844, -6.416223049163818]. Convert image to uint8 prior to saving to suppress this warning.\n"
     ]
    },
    {
     "name": "stdout",
     "output_type": "stream",
     "text": [
      "spoken_language_dataset/build\\train\\es_f_47bd2e6178465cd745c86c9db5ffe447.fragment1.flac\n",
      "spoken_language_dataset/build\\train\\es_f_47bd2e6178465cd745c86c9db5ffe447.fragment1.noise1.flac\n"
     ]
    },
    {
     "name": "stderr",
     "output_type": "stream",
     "text": [
      "Lossy conversion from float32 to uint8. Range [-181.51976013183594, -6.415975093841553]. Convert image to uint8 prior to saving to suppress this warning.\n",
      "Lossy conversion from float32 to uint8. Range [-177.1300506591797, -6.405980587005615]. Convert image to uint8 prior to saving to suppress this warning.\n"
     ]
    },
    {
     "name": "stdout",
     "output_type": "stream",
     "text": [
      "spoken_language_dataset/build\\train\\es_f_47bd2e6178465cd745c86c9db5ffe447.fragment1.noise2.flac\n",
      "spoken_language_dataset/build\\train\\es_f_47bd2e6178465cd745c86c9db5ffe447.fragment1.noise3.flac\n",
      "spoken_language_dataset/build\\train\\es_f_47bd2e6178465cd745c86c9db5ffe447.fragment1.noise4.flac"
     ]
    },
    {
     "name": "stderr",
     "output_type": "stream",
     "text": [
      "Lossy conversion from float32 to uint8. Range [-159.880859375, -6.413969039916992]. Convert image to uint8 prior to saving to suppress this warning.\n",
      "Lossy conversion from float32 to uint8. Range [-273.9273986816406, 0.9868042469024658]. Convert image to uint8 prior to saving to suppress this warning.\n"
     ]
    },
    {
     "name": "stdout",
     "output_type": "stream",
     "text": [
      "\n",
      "spoken_language_dataset/build\\train\\es_f_47bd2e6178465cd745c86c9db5ffe447.fragment1.pitch1.flac\n"
     ]
    },
    {
     "name": "stderr",
     "output_type": "stream",
     "text": [
      "Lossy conversion from float32 to uint8. Range [-289.4322814941406, 3.5934224128723145]. Convert image to uint8 prior to saving to suppress this warning.\n"
     ]
    },
    {
     "name": "stdout",
     "output_type": "stream",
     "text": [
      "spoken_language_dataset/build\\train\\es_f_47bd2e6178465cd745c86c9db5ffe447.fragment1.pitch2.flac\n",
      "spoken_language_dataset/build\\train\\es_f_47bd2e6178465cd745c86c9db5ffe447.fragment1.pitch3.flac\n"
     ]
    },
    {
     "name": "stderr",
     "output_type": "stream",
     "text": [
      "Lossy conversion from float32 to uint8. Range [-275.2103576660156, 4.263669490814209]. Convert image to uint8 prior to saving to suppress this warning.\n",
      "Lossy conversion from float32 to uint8. Range [-268.4344177246094, 5.288999557495117]. Convert image to uint8 prior to saving to suppress this warning.\n"
     ]
    },
    {
     "name": "stdout",
     "output_type": "stream",
     "text": [
      "spoken_language_dataset/build\\train\\es_f_47bd2e6178465cd745c86c9db5ffe447.fragment1.pitch4.flac\n",
      "spoken_language_dataset/build\\train\\es_f_47bd2e6178465cd745c86c9db5ffe447.fragment1.speed1.flac\n"
     ]
    },
    {
     "name": "stderr",
     "output_type": "stream",
     "text": [
      "Lossy conversion from float32 to uint8. Range [-283.9332580566406, -14.106884002685547]. Convert image to uint8 prior to saving to suppress this warning.\n",
      "Lossy conversion from float32 to uint8. Range [-272.5276184082031, -13.773167610168457]. Convert image to uint8 prior to saving to suppress this warning.\n"
     ]
    },
    {
     "name": "stdout",
     "output_type": "stream",
     "text": [
      "spoken_language_dataset/build\\train\\es_f_47bd2e6178465cd745c86c9db5ffe447.fragment1.speed2.flac\n",
      "spoken_language_dataset/build\\train\\es_f_47bd2e6178465cd745c86c9db5ffe447.fragment1.speed3.flac\n"
     ]
    },
    {
     "name": "stderr",
     "output_type": "stream",
     "text": [
      "Lossy conversion from float32 to uint8. Range [-289.4649658203125, -14.727485656738281]. Convert image to uint8 prior to saving to suppress this warning.\n",
      "Lossy conversion from float32 to uint8. Range [-267.65216064453125, 6.060696601867676]. Convert image to uint8 prior to saving to suppress this warning.\n"
     ]
    },
    {
     "name": "stdout",
     "output_type": "stream",
     "text": [
      "spoken_language_dataset/build\\train\\es_f_47bd2e6178465cd745c86c9db5ffe447.fragment1.speed4.flac\n",
      "spoken_language_dataset/build\\train\\es_f_7b894c491011d0d541a071d6637b8de1.fragment1.flac\n"
     ]
    },
    {
     "name": "stderr",
     "output_type": "stream",
     "text": [
      "Lossy conversion from float32 to uint8. Range [-325.57110595703125, -6.189617156982422]. Convert image to uint8 prior to saving to suppress this warning.\n",
      "Lossy conversion from float32 to uint8. Range [-173.59327697753906, -18.1795711517334]. Convert image to uint8 prior to saving to suppress this warning.\n",
      "Lossy conversion from float32 to uint8. Range [-167.83865356445312, -18.232675552368164]. Convert image to uint8 prior to saving to suppress this warning.\n"
     ]
    },
    {
     "name": "stdout",
     "output_type": "stream",
     "text": [
      "spoken_language_dataset/build\\train\\es_f_7b894c491011d0d541a071d6637b8de1.fragment1.noise1.flac\n",
      "spoken_language_dataset/build\\train\\es_f_7b894c491011d0d541a071d6637b8de1.fragment1.noise2.flac\n",
      "spoken_language_dataset/build\\train\\es_f_7b894c491011d0d541a071d6637b8de1.fragment1.noise3.flac\n"
     ]
    },
    {
     "name": "stderr",
     "output_type": "stream",
     "text": [
      "Lossy conversion from float32 to uint8. Range [-172.9302520751953, -18.236356735229492]. Convert image to uint8 prior to saving to suppress this warning.\n",
      "Lossy conversion from float32 to uint8. Range [-239.22117614746094, -18.228622436523438]. Convert image to uint8 prior to saving to suppress this warning.\n",
      "Lossy conversion from float32 to uint8. Range [-315.2986755371094, -7.755893230438232]. Convert image to uint8 prior to saving to suppress this warning.\n"
     ]
    },
    {
     "name": "stdout",
     "output_type": "stream",
     "text": [
      "spoken_language_dataset/build\\train\\es_f_7b894c491011d0d541a071d6637b8de1.fragment1.noise4.flac\n",
      "spoken_language_dataset/build\\train\\es_f_7b894c491011d0d541a071d6637b8de1.fragment1.pitch1.flac\n"
     ]
    },
    {
     "name": "stderr",
     "output_type": "stream",
     "text": [
      "Lossy conversion from float32 to uint8. Range [-309.8594055175781, -5.933664321899414]. Convert image to uint8 prior to saving to suppress this warning.\n",
      "Lossy conversion from float32 to uint8. Range [-308.9032287597656, -6.850069999694824]. Convert image to uint8 prior to saving to suppress this warning.\n"
     ]
    },
    {
     "name": "stdout",
     "output_type": "stream",
     "text": [
      "spoken_language_dataset/build\\train\\es_f_7b894c491011d0d541a071d6637b8de1.fragment1.pitch2.flac\n",
      "spoken_language_dataset/build\\train\\es_f_7b894c491011d0d541a071d6637b8de1.fragment1.pitch3.flac\n",
      "spoken_language_dataset/build\\train\\es_f_7b894c491011d0d541a071d6637b8de1.fragment1.pitch4.flac"
     ]
    },
    {
     "name": "stderr",
     "output_type": "stream",
     "text": [
      "Lossy conversion from float32 to uint8. Range [-297.5522766113281, -5.626750946044922]. Convert image to uint8 prior to saving to suppress this warning.\n",
      "Lossy conversion from float32 to uint8. Range [-318.03851318359375, -8.857584953308105]. Convert image to uint8 prior to saving to suppress this warning.\n"
     ]
    },
    {
     "name": "stdout",
     "output_type": "stream",
     "text": [
      "\n",
      "spoken_language_dataset/build\\train\\es_f_7b894c491011d0d541a071d6637b8de1.fragment1.speed1.flac\n",
      "spoken_language_dataset/build\\train\\es_f_7b894c491011d0d541a071d6637b8de1.fragment1.speed2.flac"
     ]
    },
    {
     "name": "stderr",
     "output_type": "stream",
     "text": [
      "Lossy conversion from float32 to uint8. Range [-324.2331848144531, -7.607485294342041]. Convert image to uint8 prior to saving to suppress this warning.\n"
     ]
    },
    {
     "name": "stdout",
     "output_type": "stream",
     "text": [
      "\n",
      "spoken_language_dataset/build\\train\\es_f_7b894c491011d0d541a071d6637b8de1.fragment1.speed3.flac\n"
     ]
    },
    {
     "name": "stderr",
     "output_type": "stream",
     "text": [
      "Lossy conversion from float32 to uint8. Range [-301.3510437011719, -6.270829677581787]. Convert image to uint8 prior to saving to suppress this warning.\n"
     ]
    },
    {
     "name": "stdout",
     "output_type": "stream",
     "text": [
      "spoken_language_dataset/build\\train\\es_f_7b894c491011d0d541a071d6637b8de1.fragment1.speed4.flac\n"
     ]
    },
    {
     "name": "stderr",
     "output_type": "stream",
     "text": [
      "Lossy conversion from float32 to uint8. Range [-328.4425048828125, -5.95328426361084]. Convert image to uint8 prior to saving to suppress this warning.\n",
      "Lossy conversion from float32 to uint8. Range [-194.0613555908203, -26.109060287475586]. Convert image to uint8 prior to saving to suppress this warning.\n",
      "Lossy conversion from float32 to uint8. Range [-166.958740234375, -38.79966354370117]. Convert image to uint8 prior to saving to suppress this warning.\n"
     ]
    },
    {
     "name": "stdout",
     "output_type": "stream",
     "text": [
      "spoken_language_dataset/build\\train\\es_m_4d7e5bf6deb997d71eb46ae46043c3db.fragment1.flac\n",
      "spoken_language_dataset/build\\train\\es_m_4d7e5bf6deb997d71eb46ae46043c3db.fragment1.noise1.flac\n"
     ]
    },
    {
     "name": "stderr",
     "output_type": "stream",
     "text": [
      "Lossy conversion from float32 to uint8. Range [-175.1758575439453, -38.18873596191406]. Convert image to uint8 prior to saving to suppress this warning.\n",
      "Lossy conversion from float32 to uint8. Range [-174.92372131347656, -37.97972106933594]. Convert image to uint8 prior to saving to suppress this warning.\n"
     ]
    },
    {
     "name": "stdout",
     "output_type": "stream",
     "text": [
      "spoken_language_dataset/build\\train\\es_m_4d7e5bf6deb997d71eb46ae46043c3db.fragment1.noise2.flac\n",
      "spoken_language_dataset/build\\train\\es_m_4d7e5bf6deb997d71eb46ae46043c3db.fragment1.noise3.flac\n",
      "spoken_language_dataset/build\\train\\es_m_4d7e5bf6deb997d71eb46ae46043c3db.fragment1.noise4.flac"
     ]
    },
    {
     "name": "stderr",
     "output_type": "stream",
     "text": [
      "Lossy conversion from float32 to uint8. Range [-150.47390747070312, -38.022552490234375]. Convert image to uint8 prior to saving to suppress this warning.\n"
     ]
    },
    {
     "name": "stdout",
     "output_type": "stream",
     "text": [
      "\n",
      "spoken_language_dataset/build\\train\\es_m_4d7e5bf6deb997d71eb46ae46043c3db.fragment1.pitch1.flac\n"
     ]
    },
    {
     "name": "stderr",
     "output_type": "stream",
     "text": [
      "Lossy conversion from float32 to uint8. Range [-191.97320556640625, -27.84785270690918]. Convert image to uint8 prior to saving to suppress this warning.\n",
      "Lossy conversion from float32 to uint8. Range [-198.60540771484375, -28.98299217224121]. Convert image to uint8 prior to saving to suppress this warning.\n"
     ]
    },
    {
     "name": "stdout",
     "output_type": "stream",
     "text": [
      "spoken_language_dataset/build\\train\\es_m_4d7e5bf6deb997d71eb46ae46043c3db.fragment1.pitch2.flac\n",
      "spoken_language_dataset/build\\train\\es_m_4d7e5bf6deb997d71eb46ae46043c3db.fragment1.pitch3.flac\n"
     ]
    },
    {
     "name": "stderr",
     "output_type": "stream",
     "text": [
      "Lossy conversion from float32 to uint8. Range [-211.77491760253906, -27.990938186645508]. Convert image to uint8 prior to saving to suppress this warning.\n",
      "Lossy conversion from float32 to uint8. Range [-196.1492919921875, -27.408784866333008]. Convert image to uint8 prior to saving to suppress this warning.\n"
     ]
    },
    {
     "name": "stdout",
     "output_type": "stream",
     "text": [
      "spoken_language_dataset/build\\train\\es_m_4d7e5bf6deb997d71eb46ae46043c3db.fragment1.pitch4.flac\n",
      "spoken_language_dataset/build\\train\\es_m_4d7e5bf6deb997d71eb46ae46043c3db.fragment1.speed1.flac\n"
     ]
    },
    {
     "name": "stderr",
     "output_type": "stream",
     "text": [
      "Lossy conversion from float32 to uint8. Range [-207.64535522460938, -29.7489013671875]. Convert image to uint8 prior to saving to suppress this warning.\n",
      "Lossy conversion from float32 to uint8. Range [-212.84823608398438, -29.28663444519043]. Convert image to uint8 prior to saving to suppress this warning.\n"
     ]
    },
    {
     "name": "stdout",
     "output_type": "stream",
     "text": [
      "spoken_language_dataset/build\\train\\es_m_4d7e5bf6deb997d71eb46ae46043c3db.fragment1.speed2.flac\n",
      "spoken_language_dataset/build\\train\\es_m_4d7e5bf6deb997d71eb46ae46043c3db.fragment1.speed3.flac\n"
     ]
    },
    {
     "name": "stderr",
     "output_type": "stream",
     "text": [
      "Lossy conversion from float32 to uint8. Range [-196.00692749023438, -27.647483825683594]. Convert image to uint8 prior to saving to suppress this warning.\n",
      "Lossy conversion from float32 to uint8. Range [-220.2241973876953, -28.458620071411133]. Convert image to uint8 prior to saving to suppress this warning.\n"
     ]
    },
    {
     "name": "stdout",
     "output_type": "stream",
     "text": [
      "spoken_language_dataset/build\\train\\es_m_4d7e5bf6deb997d71eb46ae46043c3db.fragment1.speed4.flac\n",
      "spoken_language_dataset/build\\train\\es_m_60f8a38a1112aed756fd2bc91b0b52e0.fragment1.flac\n"
     ]
    },
    {
     "name": "stderr",
     "output_type": "stream",
     "text": [
      "Lossy conversion from float32 to uint8. Range [-287.0751647949219, -17.626131057739258]. Convert image to uint8 prior to saving to suppress this warning.\n",
      "Lossy conversion from float32 to uint8. Range [-164.48291015625, -29.697511672973633]. Convert image to uint8 prior to saving to suppress this warning.\n"
     ]
    },
    {
     "name": "stdout",
     "output_type": "stream",
     "text": [
      "spoken_language_dataset/build\\train\\es_m_60f8a38a1112aed756fd2bc91b0b52e0.fragment1.noise1.flac\n",
      "spoken_language_dataset/build\\train\\es_m_60f8a38a1112aed756fd2bc91b0b52e0.fragment1.noise2.flac\n"
     ]
    },
    {
     "name": "stderr",
     "output_type": "stream",
     "text": [
      "Lossy conversion from float32 to uint8. Range [-160.7375946044922, -29.619110107421875]. Convert image to uint8 prior to saving to suppress this warning.\n",
      "Lossy conversion from float32 to uint8. Range [-179.5475311279297, -29.73493766784668]. Convert image to uint8 prior to saving to suppress this warning.\n"
     ]
    },
    {
     "name": "stdout",
     "output_type": "stream",
     "text": [
      "spoken_language_dataset/build\\train\\es_m_60f8a38a1112aed756fd2bc91b0b52e0.fragment1.noise3.flac\n",
      "spoken_language_dataset/build\\train\\es_m_60f8a38a1112aed756fd2bc91b0b52e0.fragment1.noise4.flac\n"
     ]
    },
    {
     "name": "stderr",
     "output_type": "stream",
     "text": [
      "Lossy conversion from float32 to uint8. Range [-175.58187866210938, -29.665517807006836]. Convert image to uint8 prior to saving to suppress this warning.\n",
      "Lossy conversion from float32 to uint8. Range [-256.0362854003906, -17.639131546020508]. Convert image to uint8 prior to saving to suppress this warning.\n"
     ]
    },
    {
     "name": "stdout",
     "output_type": "stream",
     "text": [
      "spoken_language_dataset/build\\train\\es_m_60f8a38a1112aed756fd2bc91b0b52e0.fragment1.pitch1.flac\n",
      "spoken_language_dataset/build\\train\\es_m_60f8a38a1112aed756fd2bc91b0b52e0.fragment1.pitch2.flac\n"
     ]
    },
    {
     "name": "stderr",
     "output_type": "stream",
     "text": [
      "Lossy conversion from float32 to uint8. Range [-274.97991943359375, -18.424266815185547]. Convert image to uint8 prior to saving to suppress this warning.\n",
      "Lossy conversion from float32 to uint8. Range [-268.4984436035156, -17.13377571105957]. Convert image to uint8 prior to saving to suppress this warning.\n"
     ]
    },
    {
     "name": "stdout",
     "output_type": "stream",
     "text": [
      "spoken_language_dataset/build\\train\\es_m_60f8a38a1112aed756fd2bc91b0b52e0.fragment1.pitch3.flac\n",
      "spoken_language_dataset/build\\train\\es_m_60f8a38a1112aed756fd2bc91b0b52e0.fragment1.pitch4.flac\n"
     ]
    },
    {
     "name": "stderr",
     "output_type": "stream",
     "text": [
      "Lossy conversion from float32 to uint8. Range [-278.2482604980469, -18.033184051513672]. Convert image to uint8 prior to saving to suppress this warning.\n",
      "Lossy conversion from float32 to uint8. Range [-270.8903503417969, -19.37484359741211]. Convert image to uint8 prior to saving to suppress this warning.\n"
     ]
    },
    {
     "name": "stdout",
     "output_type": "stream",
     "text": [
      "spoken_language_dataset/build\\train\\es_m_60f8a38a1112aed756fd2bc91b0b52e0.fragment1.speed1.flac\n",
      "spoken_language_dataset/build\\train\\es_m_60f8a38a1112aed756fd2bc91b0b52e0.fragment1.speed2.flac\n"
     ]
    },
    {
     "name": "stderr",
     "output_type": "stream",
     "text": [
      "Lossy conversion from float32 to uint8. Range [-272.9867858886719, -18.887052536010742]. Convert image to uint8 prior to saving to suppress this warning.\n",
      "Lossy conversion from float32 to uint8. Range [-280.40966796875, -18.620616912841797]. Convert image to uint8 prior to saving to suppress this warning.\n"
     ]
    },
    {
     "name": "stdout",
     "output_type": "stream",
     "text": [
      "spoken_language_dataset/build\\train\\es_m_60f8a38a1112aed756fd2bc91b0b52e0.fragment1.speed3.flac\n",
      "spoken_language_dataset/build\\train\\es_m_60f8a38a1112aed756fd2bc91b0b52e0.fragment1.speed4.flac\n"
     ]
    },
    {
     "name": "stderr",
     "output_type": "stream",
     "text": [
      "Lossy conversion from float32 to uint8. Range [-269.7670593261719, -17.507980346679688]. Convert image to uint8 prior to saving to suppress this warning.\n",
      "Lossy conversion from float32 to uint8. Range [-198.56033325195312, 0.07893183082342148]. Convert image to uint8 prior to saving to suppress this warning.\n"
     ]
    },
    {
     "name": "stdout",
     "output_type": "stream",
     "text": [
      "spoken_language_dataset/build\\train\\es_m_9d8242673cefba8a44695b3d4f4ddd3f.fragment1.flac\n",
      "spoken_language_dataset/build\\train\\es_m_9d8242673cefba8a44695b3d4f4ddd3f.fragment1.noise1.flac\n"
     ]
    },
    {
     "name": "stderr",
     "output_type": "stream",
     "text": [
      "Lossy conversion from float32 to uint8. Range [-160.23207092285156, -11.971331596374512]. Convert image to uint8 prior to saving to suppress this warning.\n",
      "Lossy conversion from float32 to uint8. Range [-156.89932250976562, -11.952459335327148]. Convert image to uint8 prior to saving to suppress this warning.\n"
     ]
    },
    {
     "name": "stdout",
     "output_type": "stream",
     "text": [
      "spoken_language_dataset/build\\train\\es_m_9d8242673cefba8a44695b3d4f4ddd3f.fragment1.noise2.flac\n",
      "spoken_language_dataset/build\\train\\es_m_9d8242673cefba8a44695b3d4f4ddd3f.fragment1.noise3.flac\n"
     ]
    },
    {
     "name": "stderr",
     "output_type": "stream",
     "text": [
      "Lossy conversion from float32 to uint8. Range [-159.53724670410156, -12.019011497497559]. Convert image to uint8 prior to saving to suppress this warning.\n",
      "Lossy conversion from float32 to uint8. Range [-166.26661682128906, -11.963327407836914]. Convert image to uint8 prior to saving to suppress this warning.\n"
     ]
    },
    {
     "name": "stdout",
     "output_type": "stream",
     "text": [
      "spoken_language_dataset/build\\train\\es_m_9d8242673cefba8a44695b3d4f4ddd3f.fragment1.noise4.flac\n",
      "spoken_language_dataset/build\\train\\es_m_9d8242673cefba8a44695b3d4f4ddd3f.fragment1.pitch1.flac\n"
     ]
    },
    {
     "name": "stderr",
     "output_type": "stream",
     "text": [
      "Lossy conversion from float32 to uint8. Range [-191.51995849609375, 2.9162633419036865]. Convert image to uint8 prior to saving to suppress this warning.\n",
      "Lossy conversion from float32 to uint8. Range [-214.54147338867188, -1.003552794456482]. Convert image to uint8 prior to saving to suppress this warning.\n"
     ]
    },
    {
     "name": "stdout",
     "output_type": "stream",
     "text": [
      "spoken_language_dataset/build\\train\\es_m_9d8242673cefba8a44695b3d4f4ddd3f.fragment1.pitch2.flac\n",
      "spoken_language_dataset/build\\train\\es_m_9d8242673cefba8a44695b3d4f4ddd3f.fragment1.pitch3.flac\n"
     ]
    },
    {
     "name": "stderr",
     "output_type": "stream",
     "text": [
      "Lossy conversion from float32 to uint8. Range [-209.0278778076172, 4.070723056793213]. Convert image to uint8 prior to saving to suppress this warning.\n",
      "Lossy conversion from float32 to uint8. Range [-205.5618133544922, 5.440135955810547]. Convert image to uint8 prior to saving to suppress this warning.\n"
     ]
    },
    {
     "name": "stdout",
     "output_type": "stream",
     "text": [
      "spoken_language_dataset/build\\train\\es_m_9d8242673cefba8a44695b3d4f4ddd3f.fragment1.pitch4.flac\n",
      "spoken_language_dataset/build\\train\\es_m_9d8242673cefba8a44695b3d4f4ddd3f.fragment1.speed1.flac\n"
     ]
    },
    {
     "name": "stderr",
     "output_type": "stream",
     "text": [
      "Lossy conversion from float32 to uint8. Range [-192.77178955078125, 2.5484535694122314]. Convert image to uint8 prior to saving to suppress this warning.\n",
      "Lossy conversion from float32 to uint8. Range [-196.9739990234375, -1.3087692260742188]. Convert image to uint8 prior to saving to suppress this warning.\n"
     ]
    },
    {
     "name": "stdout",
     "output_type": "stream",
     "text": [
      "spoken_language_dataset/build\\train\\es_m_9d8242673cefba8a44695b3d4f4ddd3f.fragment1.speed2.flac\n",
      "spoken_language_dataset/build\\train\\es_m_9d8242673cefba8a44695b3d4f4ddd3f.fragment1.speed3.flac\n"
     ]
    },
    {
     "name": "stderr",
     "output_type": "stream",
     "text": [
      "Lossy conversion from float32 to uint8. Range [-198.8949737548828, 2.384634256362915]. Convert image to uint8 prior to saving to suppress this warning.\n",
      "Lossy conversion from float32 to uint8. Range [-213.04298400878906, 4.722519397735596]. Convert image to uint8 prior to saving to suppress this warning.\n"
     ]
    },
    {
     "name": "stdout",
     "output_type": "stream",
     "text": [
      "spoken_language_dataset/build\\train\\es_m_9d8242673cefba8a44695b3d4f4ddd3f.fragment1.speed4.flac\n"
     ]
    }
   ],
   "source": [
    "if __name__ == \"__main__\":\n",
    "    import argparse\n",
    "# #     parser = OptionParser()\n",
    "#     parser = argparse.ArgumentParser(\n",
    "#         description='Generate various features from audio samples.')\n",
    "#     parser.add_argument('--debug', dest='debug', action='store_true')\n",
    "#     parser.set_defaults(debug=False)\n",
    "\n",
    "#     args = parser.parse_args()\n",
    "    args = {\"description\":'Generate various features from audio samples.',\"debug\":False }\n",
    "\n",
    "    if args.get('debug'):\n",
    "        process_audio(os.path.join(common.DATASET_DIST, 'train'), debug=True)\n",
    "    else:\n",
    "        process_audio(os.path.join(common.DATASET_DIST, 'test'))\n",
    "        process_audio(os.path.join(common.DATASET_DIST, 'train'))"
   ]
  },
  {
   "cell_type": "code",
   "execution_count": null,
   "metadata": {},
   "outputs": [],
   "source": []
  },
  {
   "cell_type": "code",
   "execution_count": null,
   "metadata": {},
   "outputs": [],
   "source": []
  }
 ],
 "metadata": {
  "kernelspec": {
   "display_name": "Python 3",
   "language": "python",
   "name": "python3"
  },
  "language_info": {
   "codemirror_mode": {
    "name": "ipython",
    "version": 3
   },
   "file_extension": ".py",
   "mimetype": "text/x-python",
   "name": "python",
   "nbconvert_exporter": "python",
   "pygments_lexer": "ipython3",
   "version": "3.6.8"
  }
 },
 "nbformat": 4,
 "nbformat_minor": 2
}
